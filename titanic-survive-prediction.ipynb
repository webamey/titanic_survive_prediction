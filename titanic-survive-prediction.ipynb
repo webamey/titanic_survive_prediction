{
 "cells": [
  {
   "cell_type": "code",
   "execution_count": 1,
   "id": "8bbffeec",
   "metadata": {
    "_cell_guid": "b1076dfc-b9ad-4769-8c92-a6c4dae69d19",
    "_uuid": "8f2839f25d086af736a60e9eeb907d3b93b6e0e5",
    "execution": {
     "iopub.execute_input": "2024-12-28T06:06:04.365086Z",
     "iopub.status.busy": "2024-12-28T06:06:04.363986Z",
     "iopub.status.idle": "2024-12-28T06:06:07.403097Z",
     "shell.execute_reply": "2024-12-28T06:06:07.401620Z"
    },
    "papermill": {
     "duration": 3.059441,
     "end_time": "2024-12-28T06:06:07.405538",
     "exception": false,
     "start_time": "2024-12-28T06:06:04.346097",
     "status": "completed"
    },
    "tags": []
   },
   "outputs": [
    {
     "name": "stdout",
     "output_type": "stream",
     "text": [
      "/kaggle/input/titanic/train.csv\n",
      "/kaggle/input/titanic/test.csv\n",
      "/kaggle/input/titanic/gender_submission.csv\n"
     ]
    }
   ],
   "source": [
    "# This Python 3 environment comes with many helpful analytics libraries installed\n",
    "# It is defined by the kaggle/python Docker image: https://github.com/kaggle/docker-python\n",
    "# For example, here's several helpful packages to load\n",
    "\n",
    "import numpy as np # linear algebra\n",
    "import pandas as pd # data processing, CSV file I/O (e.g. pd.read_csv)\n",
    "pd.set_option('display.max_columns', None)\n",
    "import seaborn as sns \n",
    "import matplotlib.pyplot as plt\n",
    "\n",
    "# Input data files are available in the read-only \"../input/\" directory\n",
    "# For example, running this (by clicking run or pressing Shift+Enter) will list all files under the input directory\n",
    "\n",
    "import os\n",
    "for dirname, _, filenames in os.walk('/kaggle/input'):\n",
    "    for filename in filenames:\n",
    "        print(os.path.join(dirname, filename))\n",
    "\n",
    "# You can write up to 20GB to the current directory (/kaggle/working/) that gets preserved as output when you create a version using \"Save & Run All\" \n",
    "# You can also write temporary files to /kaggle/temp/, but they won't be saved outside of the current session"
   ]
  },
  {
   "cell_type": "markdown",
   "id": "e5d08f52",
   "metadata": {
    "papermill": {
     "duration": 0.013739,
     "end_time": "2024-12-28T06:06:07.434339",
     "exception": false,
     "start_time": "2024-12-28T06:06:07.420600",
     "status": "completed"
    },
    "tags": []
   },
   "source": [
    "# EDA "
   ]
  },
  {
   "cell_type": "code",
   "execution_count": 2,
   "id": "d207c393",
   "metadata": {
    "execution": {
     "iopub.execute_input": "2024-12-28T06:06:07.464803Z",
     "iopub.status.busy": "2024-12-28T06:06:07.464286Z",
     "iopub.status.idle": "2024-12-28T06:06:07.512475Z",
     "shell.execute_reply": "2024-12-28T06:06:07.511219Z"
    },
    "papermill": {
     "duration": 0.067067,
     "end_time": "2024-12-28T06:06:07.515306",
     "exception": false,
     "start_time": "2024-12-28T06:06:07.448239",
     "status": "completed"
    },
    "tags": []
   },
   "outputs": [],
   "source": [
    "df = pd.read_csv('/kaggle/input/titanic/train.csv')\n",
    "df_test = pd.read_csv('/kaggle/input/titanic/test.csv')\n",
    "df['train_test'] = 1\n",
    "df_test['train_test'] = 0\n",
    "all_data = pd.concat([df, df_test])"
   ]
  },
  {
   "cell_type": "code",
   "execution_count": 3,
   "id": "513bd41c",
   "metadata": {
    "execution": {
     "iopub.execute_input": "2024-12-28T06:06:07.545034Z",
     "iopub.status.busy": "2024-12-28T06:06:07.544587Z",
     "iopub.status.idle": "2024-12-28T06:06:07.567504Z",
     "shell.execute_reply": "2024-12-28T06:06:07.566348Z"
    },
    "papermill": {
     "duration": 0.040482,
     "end_time": "2024-12-28T06:06:07.569714",
     "exception": false,
     "start_time": "2024-12-28T06:06:07.529232",
     "status": "completed"
    },
    "tags": []
   },
   "outputs": [
    {
     "data": {
      "text/html": [
       "<div>\n",
       "<style scoped>\n",
       "    .dataframe tbody tr th:only-of-type {\n",
       "        vertical-align: middle;\n",
       "    }\n",
       "\n",
       "    .dataframe tbody tr th {\n",
       "        vertical-align: top;\n",
       "    }\n",
       "\n",
       "    .dataframe thead th {\n",
       "        text-align: right;\n",
       "    }\n",
       "</style>\n",
       "<table border=\"1\" class=\"dataframe\">\n",
       "  <thead>\n",
       "    <tr style=\"text-align: right;\">\n",
       "      <th></th>\n",
       "      <th>PassengerId</th>\n",
       "      <th>Survived</th>\n",
       "      <th>Pclass</th>\n",
       "      <th>Name</th>\n",
       "      <th>Sex</th>\n",
       "      <th>Age</th>\n",
       "      <th>SibSp</th>\n",
       "      <th>Parch</th>\n",
       "      <th>Ticket</th>\n",
       "      <th>Fare</th>\n",
       "      <th>Cabin</th>\n",
       "      <th>Embarked</th>\n",
       "      <th>train_test</th>\n",
       "    </tr>\n",
       "  </thead>\n",
       "  <tbody>\n",
       "    <tr>\n",
       "      <th>0</th>\n",
       "      <td>1</td>\n",
       "      <td>0</td>\n",
       "      <td>3</td>\n",
       "      <td>Braund, Mr. Owen Harris</td>\n",
       "      <td>male</td>\n",
       "      <td>22.0</td>\n",
       "      <td>1</td>\n",
       "      <td>0</td>\n",
       "      <td>A/5 21171</td>\n",
       "      <td>7.2500</td>\n",
       "      <td>NaN</td>\n",
       "      <td>S</td>\n",
       "      <td>1</td>\n",
       "    </tr>\n",
       "    <tr>\n",
       "      <th>1</th>\n",
       "      <td>2</td>\n",
       "      <td>1</td>\n",
       "      <td>1</td>\n",
       "      <td>Cumings, Mrs. John Bradley (Florence Briggs Th...</td>\n",
       "      <td>female</td>\n",
       "      <td>38.0</td>\n",
       "      <td>1</td>\n",
       "      <td>0</td>\n",
       "      <td>PC 17599</td>\n",
       "      <td>71.2833</td>\n",
       "      <td>C85</td>\n",
       "      <td>C</td>\n",
       "      <td>1</td>\n",
       "    </tr>\n",
       "    <tr>\n",
       "      <th>2</th>\n",
       "      <td>3</td>\n",
       "      <td>1</td>\n",
       "      <td>3</td>\n",
       "      <td>Heikkinen, Miss. Laina</td>\n",
       "      <td>female</td>\n",
       "      <td>26.0</td>\n",
       "      <td>0</td>\n",
       "      <td>0</td>\n",
       "      <td>STON/O2. 3101282</td>\n",
       "      <td>7.9250</td>\n",
       "      <td>NaN</td>\n",
       "      <td>S</td>\n",
       "      <td>1</td>\n",
       "    </tr>\n",
       "    <tr>\n",
       "      <th>3</th>\n",
       "      <td>4</td>\n",
       "      <td>1</td>\n",
       "      <td>1</td>\n",
       "      <td>Futrelle, Mrs. Jacques Heath (Lily May Peel)</td>\n",
       "      <td>female</td>\n",
       "      <td>35.0</td>\n",
       "      <td>1</td>\n",
       "      <td>0</td>\n",
       "      <td>113803</td>\n",
       "      <td>53.1000</td>\n",
       "      <td>C123</td>\n",
       "      <td>S</td>\n",
       "      <td>1</td>\n",
       "    </tr>\n",
       "    <tr>\n",
       "      <th>4</th>\n",
       "      <td>5</td>\n",
       "      <td>0</td>\n",
       "      <td>3</td>\n",
       "      <td>Allen, Mr. William Henry</td>\n",
       "      <td>male</td>\n",
       "      <td>35.0</td>\n",
       "      <td>0</td>\n",
       "      <td>0</td>\n",
       "      <td>373450</td>\n",
       "      <td>8.0500</td>\n",
       "      <td>NaN</td>\n",
       "      <td>S</td>\n",
       "      <td>1</td>\n",
       "    </tr>\n",
       "  </tbody>\n",
       "</table>\n",
       "</div>"
      ],
      "text/plain": [
       "   PassengerId  Survived  Pclass  \\\n",
       "0            1         0       3   \n",
       "1            2         1       1   \n",
       "2            3         1       3   \n",
       "3            4         1       1   \n",
       "4            5         0       3   \n",
       "\n",
       "                                                Name     Sex   Age  SibSp  \\\n",
       "0                            Braund, Mr. Owen Harris    male  22.0      1   \n",
       "1  Cumings, Mrs. John Bradley (Florence Briggs Th...  female  38.0      1   \n",
       "2                             Heikkinen, Miss. Laina  female  26.0      0   \n",
       "3       Futrelle, Mrs. Jacques Heath (Lily May Peel)  female  35.0      1   \n",
       "4                           Allen, Mr. William Henry    male  35.0      0   \n",
       "\n",
       "   Parch            Ticket     Fare Cabin Embarked  train_test  \n",
       "0      0         A/5 21171   7.2500   NaN        S           1  \n",
       "1      0          PC 17599  71.2833   C85        C           1  \n",
       "2      0  STON/O2. 3101282   7.9250   NaN        S           1  \n",
       "3      0            113803  53.1000  C123        S           1  \n",
       "4      0            373450   8.0500   NaN        S           1  "
      ]
     },
     "execution_count": 3,
     "metadata": {},
     "output_type": "execute_result"
    }
   ],
   "source": [
    "df.head()"
   ]
  },
  {
   "cell_type": "code",
   "execution_count": 4,
   "id": "18b9bd8b",
   "metadata": {
    "execution": {
     "iopub.execute_input": "2024-12-28T06:06:07.601199Z",
     "iopub.status.busy": "2024-12-28T06:06:07.600786Z",
     "iopub.status.idle": "2024-12-28T06:06:07.614218Z",
     "shell.execute_reply": "2024-12-28T06:06:07.612763Z"
    },
    "papermill": {
     "duration": 0.031875,
     "end_time": "2024-12-28T06:06:07.616551",
     "exception": false,
     "start_time": "2024-12-28T06:06:07.584676",
     "status": "completed"
    },
    "tags": []
   },
   "outputs": [],
   "source": [
    "df_num = df[['Age', 'SibSp', 'Parch', 'Fare']]\n",
    "df_cat = df[['Survived', 'Pclass', 'Name', 'Sex', 'Ticket', 'Cabin', 'Embarked']]"
   ]
  },
  {
   "cell_type": "code",
   "execution_count": 5,
   "id": "029957f6",
   "metadata": {
    "execution": {
     "iopub.execute_input": "2024-12-28T06:06:07.646426Z",
     "iopub.status.busy": "2024-12-28T06:06:07.646038Z",
     "iopub.status.idle": "2024-12-28T06:06:08.660855Z",
     "shell.execute_reply": "2024-12-28T06:06:08.659544Z"
    },
    "papermill": {
     "duration": 1.033795,
     "end_time": "2024-12-28T06:06:08.664536",
     "exception": false,
     "start_time": "2024-12-28T06:06:07.630741",
     "status": "completed"
    },
    "tags": []
   },
   "outputs": [
    {
     "data": {
      "image/png": "[encoded data removed]",
      "text/plain": [
       "<Figure size 640x480 with 1 Axes>"
      ]
     },
     "metadata": {},
     "output_type": "display_data"
    },
    {
     "data": {
      "image/png": "[encoded data removed]",
      "text/plain": [
       "<Figure size 640x480 with 1 Axes>"
      ]
     },
     "metadata": {},
     "output_type": "display_data"
    },
    {
     "data": {
      "image/png": "[encoded data removed]",
      "text/plain": [
       "<Figure size 640x480 with 1 Axes>"
      ]
     },
     "metadata": {},
     "output_type": "display_data"
    },
    {
     "data": {
      "image/png": "[encoded data removed]",
      "text/plain": [
       "<Figure size 640x480 with 1 Axes>"
      ]
     },
     "metadata": {},
     "output_type": "display_data"
    }
   ],
   "source": [
    "for i in df_num.columns:\n",
    "    plt.hist(df_num[i])\n",
    "    plt.title(i)\n",
    "    plt.show()\n"
   ]
  },
  {
   "cell_type": "code",
   "execution_count": 6,
   "id": "ca02a1e9",
   "metadata": {
    "execution": {
     "iopub.execute_input": "2024-12-28T06:06:08.698665Z",
     "iopub.status.busy": "2024-12-28T06:06:08.698247Z",
     "iopub.status.idle": "2024-12-28T06:06:08.711748Z",
     "shell.execute_reply": "2024-12-28T06:06:08.710138Z"
    },
    "papermill": {
     "duration": 0.034114,
     "end_time": "2024-12-28T06:06:08.714489",
     "exception": false,
     "start_time": "2024-12-28T06:06:08.680375",
     "status": "completed"
    },
    "tags": []
   },
   "outputs": [
    {
     "name": "stdout",
     "output_type": "stream",
     "text": [
      "            Age     SibSp     Parch      Fare\n",
      "Age    1.000000 -0.308247 -0.189119  0.096067\n",
      "SibSp -0.308247  1.000000  0.414838  0.159651\n",
      "Parch -0.189119  0.414838  1.000000  0.216225\n",
      "Fare   0.096067  0.159651  0.216225  1.000000\n"
     ]
    }
   ],
   "source": [
    "print(df_num.corr())"
   ]
  },
  {
   "cell_type": "code",
   "execution_count": 7,
   "id": "dcac2b7b",
   "metadata": {
    "execution": {
     "iopub.execute_input": "2024-12-28T06:06:08.747595Z",
     "iopub.status.busy": "2024-12-28T06:06:08.747231Z",
     "iopub.status.idle": "2024-12-28T06:06:09.064282Z",
     "shell.execute_reply": "2024-12-28T06:06:09.062896Z"
    },
    "papermill": {
     "duration": 0.336433,
     "end_time": "2024-12-28T06:06:09.066683",
     "exception": false,
     "start_time": "2024-12-28T06:06:08.730250",
     "status": "completed"
    },
    "tags": []
   },
   "outputs": [
    {
     "data": {
      "text/plain": [
       "<Axes: >"
      ]
     },
     "execution_count": 7,
     "metadata": {},
     "output_type": "execute_result"
    },
    {
     "data": {
      "image/png": "[encoded data removed]",
      "text/plain": [
       "<Figure size 640x480 with 2 Axes>"
      ]
     },
     "metadata": {},
     "output_type": "display_data"
    }
   ],
   "source": [
    "sns.heatmap(df_num.corr())"
   ]
  },
  {
   "cell_type": "code",
   "execution_count": 8,
   "id": "a005b9be",
   "metadata": {
    "execution": {
     "iopub.execute_input": "2024-12-28T06:06:09.101722Z",
     "iopub.status.busy": "2024-12-28T06:06:09.101321Z",
     "iopub.status.idle": "2024-12-28T06:06:09.126895Z",
     "shell.execute_reply": "2024-12-28T06:06:09.125820Z"
    },
    "papermill": {
     "duration": 0.045913,
     "end_time": "2024-12-28T06:06:09.129153",
     "exception": false,
     "start_time": "2024-12-28T06:06:09.083240",
     "status": "completed"
    },
    "tags": []
   },
   "outputs": [
    {
     "data": {
      "text/html": [
       "<div>\n",
       "<style scoped>\n",
       "    .dataframe tbody tr th:only-of-type {\n",
       "        vertical-align: middle;\n",
       "    }\n",
       "\n",
       "    .dataframe tbody tr th {\n",
       "        vertical-align: top;\n",
       "    }\n",
       "\n",
       "    .dataframe thead th {\n",
       "        text-align: right;\n",
       "    }\n",
       "</style>\n",
       "<table border=\"1\" class=\"dataframe\">\n",
       "  <thead>\n",
       "    <tr style=\"text-align: right;\">\n",
       "      <th></th>\n",
       "      <th>Age</th>\n",
       "      <th>Fare</th>\n",
       "      <th>Parch</th>\n",
       "      <th>SibSp</th>\n",
       "    </tr>\n",
       "    <tr>\n",
       "      <th>Survived</th>\n",
       "      <th></th>\n",
       "      <th></th>\n",
       "      <th></th>\n",
       "      <th></th>\n",
       "    </tr>\n",
       "  </thead>\n",
       "  <tbody>\n",
       "    <tr>\n",
       "      <th>0</th>\n",
       "      <td>30.626179</td>\n",
       "      <td>22.117887</td>\n",
       "      <td>0.329690</td>\n",
       "      <td>0.553734</td>\n",
       "    </tr>\n",
       "    <tr>\n",
       "      <th>1</th>\n",
       "      <td>28.343690</td>\n",
       "      <td>48.395408</td>\n",
       "      <td>0.464912</td>\n",
       "      <td>0.473684</td>\n",
       "    </tr>\n",
       "  </tbody>\n",
       "</table>\n",
       "</div>"
      ],
      "text/plain": [
       "                Age       Fare     Parch     SibSp\n",
       "Survived                                          \n",
       "0         30.626179  22.117887  0.329690  0.553734\n",
       "1         28.343690  48.395408  0.464912  0.473684"
      ]
     },
     "execution_count": 8,
     "metadata": {},
     "output_type": "execute_result"
    }
   ],
   "source": [
    "pd.pivot_table(df, index='Survived', values = ['Age', 'SibSp', 'Parch', 'Fare'])"
   ]
  },
  {
   "cell_type": "code",
   "execution_count": 9,
   "id": "de0d4e2b",
   "metadata": {
    "execution": {
     "iopub.execute_input": "2024-12-28T06:06:09.162127Z",
     "iopub.status.busy": "2024-12-28T06:06:09.161721Z",
     "iopub.status.idle": "2024-12-28T06:06:25.175473Z",
     "shell.execute_reply": "2024-12-28T06:06:25.173582Z"
    },
    "papermill": {
     "duration": 16.033279,
     "end_time": "2024-12-28T06:06:25.178086",
     "exception": false,
     "start_time": "2024-12-28T06:06:09.144807",
     "status": "completed"
    },
    "tags": []
   },
   "outputs": [
    {
     "data": {
      "image/png": "[encoded data removed]",
      "text/plain": [
       "<Figure size 640x480 with 1 Axes>"
      ]
     },
     "metadata": {},
     "output_type": "display_data"
    },
    {
     "data": {
      "image/png": "[encoded data removed]",
      "text/plain": [
       "<Figure size 640x480 with 1 Axes>"
      ]
     },
     "metadata": {},
     "output_type": "display_data"
    },
    {
     "data": {
      "image/png": "[encoded data removed]",
      "text/plain": [
       "<Figure size 640x480 with 1 Axes>"
      ]
     },
     "metadata": {},
     "output_type": "display_data"
    },
    {
     "data": {
      "image/png": "[encoded data removed]",
      "text/plain": [
       "<Figure size 640x480 with 1 Axes>"
      ]
     },
     "metadata": {},
     "output_type": "display_data"
    },
    {
     "data": {
      "image/png": "[encoded data removed]",
      "text/plain": [
       "<Figure size 640x480 with 1 Axes>"
      ]
     },
     "metadata": {},
     "output_type": "display_data"
    },
    {
     "data": {
      "image/png": "[encoded data removed]",
      "text/plain": [
       "<Figure size 640x480 with 1 Axes>"
      ]
     },
     "metadata": {},
     "output_type": "display_data"
    },
    {
     "data": {
      "image/png": "[encoded data removed]",
      "text/plain": [
       "<Figure size 640x480 with 1 Axes>"
      ]
     },
     "metadata": {},
     "output_type": "display_data"
    }
   ],
   "source": [
    "for i in df_cat.columns:\n",
    "    sns.barplot(x = df_cat[i].value_counts().index, y = df_cat[i].value_counts())\n",
    "    plt.show()"
   ]
  },
  {
   "cell_type": "code",
   "execution_count": 10,
   "id": "59f6e6fb",
   "metadata": {
    "execution": {
     "iopub.execute_input": "2024-12-28T06:06:25.216246Z",
     "iopub.status.busy": "2024-12-28T06:06:25.215761Z",
     "iopub.status.idle": "2024-12-28T06:06:25.247814Z",
     "shell.execute_reply": "2024-12-28T06:06:25.246428Z"
    },
    "papermill": {
     "duration": 0.054213,
     "end_time": "2024-12-28T06:06:25.250416",
     "exception": false,
     "start_time": "2024-12-28T06:06:25.196203",
     "status": "completed"
    },
    "tags": []
   },
   "outputs": [
    {
     "name": "stdout",
     "output_type": "stream",
     "text": [
      "Pclass      1   2    3\n",
      "Survived              \n",
      "0          80  97  372\n",
      "1         136  87  119\n",
      "\n",
      "Sex       female  male\n",
      "Survived              \n",
      "0             81   468\n",
      "1            233   109\n",
      "\n",
      "Embarked   C   Q    S\n",
      "Survived             \n",
      "0         75  47  427\n",
      "1         93  30  217\n",
      "\n"
     ]
    }
   ],
   "source": [
    "print(pd.pivot_table(df, index='Survived', columns = 'Pclass', values = 'Ticket', aggfunc='count'))\n",
    "print()\n",
    "print(pd.pivot_table(df, index='Survived', columns = 'Sex', values = 'Ticket', aggfunc='count'))\n",
    "print()\n",
    "print(pd.pivot_table(df, index='Survived', columns = 'Embarked', values = 'Ticket', aggfunc='count'))\n",
    "print()"
   ]
  },
  {
   "cell_type": "markdown",
   "id": "61c23d3a",
   "metadata": {
    "papermill": {
     "duration": 0.017444,
     "end_time": "2024-12-28T06:06:25.286069",
     "exception": false,
     "start_time": "2024-12-28T06:06:25.268625",
     "status": "completed"
    },
    "tags": []
   },
   "source": [
    "# Feature Engineering"
   ]
  },
  {
   "cell_type": "code",
   "execution_count": 11,
   "id": "377e6da4",
   "metadata": {
    "execution": {
     "iopub.execute_input": "2024-12-28T06:06:25.323294Z",
     "iopub.status.busy": "2024-12-28T06:06:25.322868Z",
     "iopub.status.idle": "2024-12-28T06:06:25.333379Z",
     "shell.execute_reply": "2024-12-28T06:06:25.332363Z"
    },
    "papermill": {
     "duration": 0.031707,
     "end_time": "2024-12-28T06:06:25.335393",
     "exception": false,
     "start_time": "2024-12-28T06:06:25.303686",
     "status": "completed"
    },
    "tags": []
   },
   "outputs": [
    {
     "data": {
      "text/plain": [
       "cabin_multiple\n",
       "0    687\n",
       "1    180\n",
       "2     16\n",
       "3      6\n",
       "4      2\n",
       "Name: count, dtype: int64"
      ]
     },
     "execution_count": 11,
     "metadata": {},
     "output_type": "execute_result"
    }
   ],
   "source": [
    "df['cabin_multiple'] = df.Cabin.apply(lambda x: 0 if pd.isna(x) else len(x.split(' ')))\n",
    "df['cabin_multiple'].value_counts()"
   ]
  },
  {
   "cell_type": "code",
   "execution_count": 12,
   "id": "8c0dde98",
   "metadata": {
    "execution": {
     "iopub.execute_input": "2024-12-28T06:06:25.372539Z",
     "iopub.status.busy": "2024-12-28T06:06:25.372145Z",
     "iopub.status.idle": "2024-12-28T06:06:25.383021Z",
     "shell.execute_reply": "2024-12-28T06:06:25.381784Z"
    },
    "papermill": {
     "duration": 0.03244,
     "end_time": "2024-12-28T06:06:25.385307",
     "exception": false,
     "start_time": "2024-12-28T06:06:25.352867",
     "status": "completed"
    },
    "tags": []
   },
   "outputs": [
    {
     "data": {
      "text/plain": [
       "0      n\n",
       "1      C\n",
       "2      n\n",
       "3      C\n",
       "4      n\n",
       "      ..\n",
       "886    n\n",
       "887    B\n",
       "888    n\n",
       "889    C\n",
       "890    n\n",
       "Name: cabin_adv, Length: 891, dtype: object"
      ]
     },
     "execution_count": 12,
     "metadata": {},
     "output_type": "execute_result"
    }
   ],
   "source": [
    "#feature engineering adding a cabin letter \n",
    "#creates categories bassed on the cabin letter (n is null) and treated as a separate category\n",
    "df['cabin_adv'] = df.Cabin.apply(lambda x: str(x)[0])\n",
    "df['cabin_adv']"
   ]
  },
  {
   "cell_type": "code",
   "execution_count": 13,
   "id": "8574a086",
   "metadata": {
    "execution": {
     "iopub.execute_input": "2024-12-28T06:06:25.426042Z",
     "iopub.status.busy": "2024-12-28T06:06:25.424859Z",
     "iopub.status.idle": "2024-12-28T06:06:25.448005Z",
     "shell.execute_reply": "2024-12-28T06:06:25.446777Z"
    },
    "papermill": {
     "duration": 0.045165,
     "end_time": "2024-12-28T06:06:25.450320",
     "exception": false,
     "start_time": "2024-12-28T06:06:25.405155",
     "status": "completed"
    },
    "tags": []
   },
   "outputs": [
    {
     "data": {
      "text/html": [
       "<div>\n",
       "<style scoped>\n",
       "    .dataframe tbody tr th:only-of-type {\n",
       "        vertical-align: middle;\n",
       "    }\n",
       "\n",
       "    .dataframe tbody tr th {\n",
       "        vertical-align: top;\n",
       "    }\n",
       "\n",
       "    .dataframe thead th {\n",
       "        text-align: right;\n",
       "    }\n",
       "</style>\n",
       "<table border=\"1\" class=\"dataframe\">\n",
       "  <thead>\n",
       "    <tr style=\"text-align: right;\">\n",
       "      <th>cabin_adv</th>\n",
       "      <th>A</th>\n",
       "      <th>B</th>\n",
       "      <th>C</th>\n",
       "      <th>D</th>\n",
       "      <th>E</th>\n",
       "      <th>F</th>\n",
       "      <th>G</th>\n",
       "      <th>T</th>\n",
       "      <th>n</th>\n",
       "    </tr>\n",
       "    <tr>\n",
       "      <th>Survived</th>\n",
       "      <th></th>\n",
       "      <th></th>\n",
       "      <th></th>\n",
       "      <th></th>\n",
       "      <th></th>\n",
       "      <th></th>\n",
       "      <th></th>\n",
       "      <th></th>\n",
       "      <th></th>\n",
       "    </tr>\n",
       "  </thead>\n",
       "  <tbody>\n",
       "    <tr>\n",
       "      <th>0</th>\n",
       "      <td>8.0</td>\n",
       "      <td>12.0</td>\n",
       "      <td>24.0</td>\n",
       "      <td>8.0</td>\n",
       "      <td>8.0</td>\n",
       "      <td>5.0</td>\n",
       "      <td>2.0</td>\n",
       "      <td>1.0</td>\n",
       "      <td>481.0</td>\n",
       "    </tr>\n",
       "    <tr>\n",
       "      <th>1</th>\n",
       "      <td>7.0</td>\n",
       "      <td>35.0</td>\n",
       "      <td>35.0</td>\n",
       "      <td>25.0</td>\n",
       "      <td>24.0</td>\n",
       "      <td>8.0</td>\n",
       "      <td>2.0</td>\n",
       "      <td>NaN</td>\n",
       "      <td>206.0</td>\n",
       "    </tr>\n",
       "  </tbody>\n",
       "</table>\n",
       "</div>"
      ],
      "text/plain": [
       "cabin_adv    A     B     C     D     E    F    G    T      n\n",
       "Survived                                                    \n",
       "0          8.0  12.0  24.0   8.0   8.0  5.0  2.0  1.0  481.0\n",
       "1          7.0  35.0  35.0  25.0  24.0  8.0  2.0  NaN  206.0"
      ]
     },
     "execution_count": 13,
     "metadata": {},
     "output_type": "execute_result"
    }
   ],
   "source": [
    "#comparing survival rate by cabin assignment\n",
    "pd.pivot_table(df, index='Survived', columns='cabin_adv', values='Name', aggfunc='count')"
   ]
  },
  {
   "cell_type": "code",
   "execution_count": 14,
   "id": "4d8f394e",
   "metadata": {
    "execution": {
     "iopub.execute_input": "2024-12-28T06:06:25.488298Z",
     "iopub.status.busy": "2024-12-28T06:06:25.487864Z",
     "iopub.status.idle": "2024-12-28T06:06:25.497750Z",
     "shell.execute_reply": "2024-12-28T06:06:25.496611Z"
    },
    "papermill": {
     "duration": 0.031608,
     "end_time": "2024-12-28T06:06:25.500029",
     "exception": false,
     "start_time": "2024-12-28T06:06:25.468421",
     "status": "completed"
    },
    "tags": []
   },
   "outputs": [
    {
     "data": {
      "text/plain": [
       "numeric_ticket\n",
       "1    661\n",
       "0    230\n",
       "Name: count, dtype: int64"
      ]
     },
     "execution_count": 14,
     "metadata": {},
     "output_type": "execute_result"
    }
   ],
   "source": [
    "#feature engineering adding a column for numerical tickets\n",
    "#understand ticket values better \n",
    "df['numeric_ticket'] = df.Ticket.apply(lambda x: 1 if x.isnumeric() else 0)\n",
    "df['numeric_ticket'].value_counts()"
   ]
  },
  {
   "cell_type": "code",
   "execution_count": 15,
   "id": "9ca6e966",
   "metadata": {
    "execution": {
     "iopub.execute_input": "2024-12-28T06:06:25.538751Z",
     "iopub.status.busy": "2024-12-28T06:06:25.538348Z",
     "iopub.status.idle": "2024-12-28T06:06:25.555233Z",
     "shell.execute_reply": "2024-12-28T06:06:25.554016Z"
    },
    "papermill": {
     "duration": 0.039028,
     "end_time": "2024-12-28T06:06:25.557674",
     "exception": false,
     "start_time": "2024-12-28T06:06:25.518646",
     "status": "completed"
    },
    "tags": []
   },
   "outputs": [
    {
     "data": {
      "text/html": [
       "<div>\n",
       "<style scoped>\n",
       "    .dataframe tbody tr th:only-of-type {\n",
       "        vertical-align: middle;\n",
       "    }\n",
       "\n",
       "    .dataframe tbody tr th {\n",
       "        vertical-align: top;\n",
       "    }\n",
       "\n",
       "    .dataframe thead th {\n",
       "        text-align: right;\n",
       "    }\n",
       "</style>\n",
       "<table border=\"1\" class=\"dataframe\">\n",
       "  <thead>\n",
       "    <tr style=\"text-align: right;\">\n",
       "      <th>numeric_ticket</th>\n",
       "      <th>0</th>\n",
       "      <th>1</th>\n",
       "    </tr>\n",
       "    <tr>\n",
       "      <th>Survived</th>\n",
       "      <th></th>\n",
       "      <th></th>\n",
       "    </tr>\n",
       "  </thead>\n",
       "  <tbody>\n",
       "    <tr>\n",
       "      <th>0</th>\n",
       "      <td>142</td>\n",
       "      <td>407</td>\n",
       "    </tr>\n",
       "    <tr>\n",
       "      <th>1</th>\n",
       "      <td>88</td>\n",
       "      <td>254</td>\n",
       "    </tr>\n",
       "  </tbody>\n",
       "</table>\n",
       "</div>"
      ],
      "text/plain": [
       "numeric_ticket    0    1\n",
       "Survived                \n",
       "0               142  407\n",
       "1                88  254"
      ]
     },
     "execution_count": 15,
     "metadata": {},
     "output_type": "execute_result"
    }
   ],
   "source": [
    "pd.pivot_table(df, index='Survived', columns='numeric_ticket', values='Ticket', aggfunc='count')"
   ]
  },
  {
   "cell_type": "code",
   "execution_count": 16,
   "id": "bc76790e",
   "metadata": {
    "execution": {
     "iopub.execute_input": "2024-12-28T06:06:25.599174Z",
     "iopub.status.busy": "2024-12-28T06:06:25.598741Z",
     "iopub.status.idle": "2024-12-28T06:06:25.607800Z",
     "shell.execute_reply": "2024-12-28T06:06:25.606615Z"
    },
    "papermill": {
     "duration": 0.031717,
     "end_time": "2024-12-28T06:06:25.610243",
     "exception": false,
     "start_time": "2024-12-28T06:06:25.578526",
     "status": "completed"
    },
    "tags": []
   },
   "outputs": [
    {
     "data": {
      "text/plain": [
       "0                               Braund, Mr. Owen Harris\n",
       "1     Cumings, Mrs. John Bradley (Florence Briggs Th...\n",
       "2                                Heikkinen, Miss. Laina\n",
       "3          Futrelle, Mrs. Jacques Heath (Lily May Peel)\n",
       "4                              Allen, Mr. William Henry\n",
       "5                                      Moran, Mr. James\n",
       "6                               McCarthy, Mr. Timothy J\n",
       "7                        Palsson, Master. Gosta Leonard\n",
       "8     Johnson, Mrs. Oscar W (Elisabeth Vilhelmina Berg)\n",
       "9                   Nasser, Mrs. Nicholas (Adele Achem)\n",
       "10                      Sandstrom, Miss. Marguerite Rut\n",
       "11                             Bonnell, Miss. Elizabeth\n",
       "12                       Saundercock, Mr. William Henry\n",
       "13                          Andersson, Mr. Anders Johan\n",
       "14                 Vestrom, Miss. Hulda Amanda Adolfina\n",
       "15                     Hewlett, Mrs. (Mary D Kingcome) \n",
       "16                                 Rice, Master. Eugene\n",
       "17                         Williams, Mr. Charles Eugene\n",
       "18    Vander Planke, Mrs. Julius (Emelia Maria Vande...\n",
       "19                              Masselmani, Mrs. Fatima\n",
       "20                                 Fynney, Mr. Joseph J\n",
       "21                                Beesley, Mr. Lawrence\n",
       "22                          McGowan, Miss. Anna \"Annie\"\n",
       "23                         Sloper, Mr. William Thompson\n",
       "24                        Palsson, Miss. Torborg Danira\n",
       "25    Asplund, Mrs. Carl Oscar (Selma Augusta Emilia...\n",
       "26                              Emir, Mr. Farred Chehab\n",
       "27                       Fortune, Mr. Charles Alexander\n",
       "28                        O'Dwyer, Miss. Ellen \"Nellie\"\n",
       "29                                  Todoroff, Mr. Lalio\n",
       "30                             Uruchurtu, Don. Manuel E\n",
       "31       Spencer, Mrs. William Augustus (Marie Eugenie)\n",
       "32                             Glynn, Miss. Mary Agatha\n",
       "33                                Wheadon, Mr. Edward H\n",
       "34                              Meyer, Mr. Edgar Joseph\n",
       "35                       Holverson, Mr. Alexander Oskar\n",
       "36                                     Mamee, Mr. Hanna\n",
       "37                             Cann, Mr. Ernest Charles\n",
       "38                   Vander Planke, Miss. Augusta Maria\n",
       "39                          Nicola-Yarred, Miss. Jamila\n",
       "40       Ahlin, Mrs. Johan (Johanna Persdotter Larsson)\n",
       "41    Turpin, Mrs. William John Robert (Dorothy Ann ...\n",
       "42                                  Kraeff, Mr. Theodor\n",
       "43             Laroche, Miss. Simonne Marie Anne Andree\n",
       "44                        Devaney, Miss. Margaret Delia\n",
       "45                             Rogers, Mr. William John\n",
       "46                                    Lennon, Mr. Denis\n",
       "47                            O'Driscoll, Miss. Bridget\n",
       "48                                  Samaan, Mr. Youssef\n",
       "49        Arnold-Franchi, Mrs. Josef (Josefine Franchi)\n",
       "Name: Name, dtype: object"
      ]
     },
     "execution_count": 16,
     "metadata": {},
     "output_type": "execute_result"
    }
   ],
   "source": [
    "#explore the names proviced in the data set and find titles data that can be used as a variable\n",
    "df.Name.head(50)"
   ]
  },
  {
   "cell_type": "code",
   "execution_count": 17,
   "id": "f3f5c586",
   "metadata": {
    "execution": {
     "iopub.execute_input": "2024-12-28T06:06:25.650708Z",
     "iopub.status.busy": "2024-12-28T06:06:25.649855Z",
     "iopub.status.idle": "2024-12-28T06:06:25.661214Z",
     "shell.execute_reply": "2024-12-28T06:06:25.660109Z"
    },
    "papermill": {
     "duration": 0.034173,
     "end_time": "2024-12-28T06:06:25.663551",
     "exception": false,
     "start_time": "2024-12-28T06:06:25.629378",
     "status": "completed"
    },
    "tags": []
   },
   "outputs": [
    {
     "data": {
      "text/plain": [
       "name_title\n",
       "Mr              517\n",
       "Miss            182\n",
       "Mrs             125\n",
       "Master           40\n",
       "Dr                7\n",
       "Rev               6\n",
       "Mlle              2\n",
       "Major             2\n",
       "Col               2\n",
       "the Countess      1\n",
       "Capt              1\n",
       "Ms                1\n",
       "Sir               1\n",
       "Lady              1\n",
       "Mme               1\n",
       "Don               1\n",
       "Jonkheer          1\n",
       "Name: count, dtype: int64"
      ]
     },
     "execution_count": 17,
     "metadata": {},
     "output_type": "execute_result"
    }
   ],
   "source": [
    "#feature engineering adding a name title\n",
    "df['name_title'] = df.Name.apply(lambda x: x.split(',')[1].split('.')[0].strip())\n",
    "df['name_title'].value_counts()"
   ]
  },
  {
   "cell_type": "code",
   "execution_count": 18,
   "id": "f93b0613",
   "metadata": {
    "execution": {
     "iopub.execute_input": "2024-12-28T06:06:25.702469Z",
     "iopub.status.busy": "2024-12-28T06:06:25.702090Z",
     "iopub.status.idle": "2024-12-28T06:06:25.731704Z",
     "shell.execute_reply": "2024-12-28T06:06:25.730607Z"
    },
    "papermill": {
     "duration": 0.052003,
     "end_time": "2024-12-28T06:06:25.734221",
     "exception": false,
     "start_time": "2024-12-28T06:06:25.682218",
     "status": "completed"
    },
    "tags": []
   },
   "outputs": [
    {
     "data": {
      "text/html": [
       "<div>\n",
       "<style scoped>\n",
       "    .dataframe tbody tr th:only-of-type {\n",
       "        vertical-align: middle;\n",
       "    }\n",
       "\n",
       "    .dataframe tbody tr th {\n",
       "        vertical-align: top;\n",
       "    }\n",
       "\n",
       "    .dataframe thead th {\n",
       "        text-align: right;\n",
       "    }\n",
       "</style>\n",
       "<table border=\"1\" class=\"dataframe\">\n",
       "  <thead>\n",
       "    <tr style=\"text-align: right;\">\n",
       "      <th>name_title</th>\n",
       "      <th>Capt</th>\n",
       "      <th>Col</th>\n",
       "      <th>Don</th>\n",
       "      <th>Dr</th>\n",
       "      <th>Jonkheer</th>\n",
       "      <th>Lady</th>\n",
       "      <th>Major</th>\n",
       "      <th>Master</th>\n",
       "      <th>Miss</th>\n",
       "      <th>Mlle</th>\n",
       "      <th>Mme</th>\n",
       "      <th>Mr</th>\n",
       "      <th>Mrs</th>\n",
       "      <th>Ms</th>\n",
       "      <th>Rev</th>\n",
       "      <th>Sir</th>\n",
       "      <th>the Countess</th>\n",
       "    </tr>\n",
       "    <tr>\n",
       "      <th>Survived</th>\n",
       "      <th></th>\n",
       "      <th></th>\n",
       "      <th></th>\n",
       "      <th></th>\n",
       "      <th></th>\n",
       "      <th></th>\n",
       "      <th></th>\n",
       "      <th></th>\n",
       "      <th></th>\n",
       "      <th></th>\n",
       "      <th></th>\n",
       "      <th></th>\n",
       "      <th></th>\n",
       "      <th></th>\n",
       "      <th></th>\n",
       "      <th></th>\n",
       "      <th></th>\n",
       "    </tr>\n",
       "  </thead>\n",
       "  <tbody>\n",
       "    <tr>\n",
       "      <th>0</th>\n",
       "      <td>1.0</td>\n",
       "      <td>1.0</td>\n",
       "      <td>1.0</td>\n",
       "      <td>4.0</td>\n",
       "      <td>1.0</td>\n",
       "      <td>NaN</td>\n",
       "      <td>1.0</td>\n",
       "      <td>17.0</td>\n",
       "      <td>55.0</td>\n",
       "      <td>NaN</td>\n",
       "      <td>NaN</td>\n",
       "      <td>436.0</td>\n",
       "      <td>26.0</td>\n",
       "      <td>NaN</td>\n",
       "      <td>6.0</td>\n",
       "      <td>NaN</td>\n",
       "      <td>NaN</td>\n",
       "    </tr>\n",
       "    <tr>\n",
       "      <th>1</th>\n",
       "      <td>NaN</td>\n",
       "      <td>1.0</td>\n",
       "      <td>NaN</td>\n",
       "      <td>3.0</td>\n",
       "      <td>NaN</td>\n",
       "      <td>1.0</td>\n",
       "      <td>1.0</td>\n",
       "      <td>23.0</td>\n",
       "      <td>127.0</td>\n",
       "      <td>2.0</td>\n",
       "      <td>1.0</td>\n",
       "      <td>81.0</td>\n",
       "      <td>99.0</td>\n",
       "      <td>1.0</td>\n",
       "      <td>NaN</td>\n",
       "      <td>1.0</td>\n",
       "      <td>1.0</td>\n",
       "    </tr>\n",
       "  </tbody>\n",
       "</table>\n",
       "</div>"
      ],
      "text/plain": [
       "name_title  Capt  Col  Don   Dr  Jonkheer  Lady  Major  Master   Miss  Mlle  \\\n",
       "Survived                                                                      \n",
       "0            1.0  1.0  1.0  4.0       1.0   NaN    1.0    17.0   55.0   NaN   \n",
       "1            NaN  1.0  NaN  3.0       NaN   1.0    1.0    23.0  127.0   2.0   \n",
       "\n",
       "name_title  Mme     Mr   Mrs   Ms  Rev  Sir  the Countess  \n",
       "Survived                                                   \n",
       "0           NaN  436.0  26.0  NaN  6.0  NaN           NaN  \n",
       "1           1.0   81.0  99.0  1.0  NaN  1.0           1.0  "
      ]
     },
     "execution_count": 18,
     "metadata": {},
     "output_type": "execute_result"
    }
   ],
   "source": [
    "pd.pivot_table(df, index='Survived', columns='name_title', values='Name', aggfunc='count')"
   ]
  },
  {
   "cell_type": "code",
   "execution_count": 19,
   "id": "c6a16a0f",
   "metadata": {
    "execution": {
     "iopub.execute_input": "2024-12-28T06:06:25.775026Z",
     "iopub.status.busy": "2024-12-28T06:06:25.774625Z",
     "iopub.status.idle": "2024-12-28T06:06:25.787128Z",
     "shell.execute_reply": "2024-12-28T06:06:25.786023Z"
    },
    "papermill": {
     "duration": 0.035109,
     "end_time": "2024-12-28T06:06:25.789294",
     "exception": false,
     "start_time": "2024-12-28T06:06:25.754185",
     "status": "completed"
    },
    "tags": []
   },
   "outputs": [],
   "source": [
    "#create categorical variables for both training and test set combined that we did for the training set\n",
    "all_data['cabin_multiple'] = all_data.Cabin.apply(lambda x: 0 if pd.isna(x) else len(x.split(' ')))\n",
    "all_data['cabin_adv'] = all_data.Cabin.apply(lambda x: str(x)[0])\n",
    "all_data['numeric_ticket'] = all_data.Ticket.apply(lambda x: 1 if x.isnumeric() else 0)\n",
    "all_data['name_title'] = all_data.Name.apply(lambda x: x.split(',')[1].split('.')[0].strip())"
   ]
  },
  {
   "cell_type": "code",
   "execution_count": 20,
   "id": "5fea5823",
   "metadata": {
    "execution": {
     "iopub.execute_input": "2024-12-28T06:06:25.828811Z",
     "iopub.status.busy": "2024-12-28T06:06:25.828420Z",
     "iopub.status.idle": "2024-12-28T06:06:25.837326Z",
     "shell.execute_reply": "2024-12-28T06:06:25.836032Z"
    },
    "papermill": {
     "duration": 0.031431,
     "end_time": "2024-12-28T06:06:25.839798",
     "exception": false,
     "start_time": "2024-12-28T06:06:25.808367",
     "status": "completed"
    },
    "tags": []
   },
   "outputs": [],
   "source": [
    "#impute nulls for continuous data\n",
    "\n",
    "all_data.Age = all_data.Age.fillna(df.Age.median())\n",
    "\n",
    "all_data.Fare = all_data.Fare.fillna(df.Fare.median())"
   ]
  },
  {
   "cell_type": "code",
   "execution_count": 21,
   "id": "7e026175",
   "metadata": {
    "execution": {
     "iopub.execute_input": "2024-12-28T06:06:25.880369Z",
     "iopub.status.busy": "2024-12-28T06:06:25.879909Z",
     "iopub.status.idle": "2024-12-28T06:06:25.889963Z",
     "shell.execute_reply": "2024-12-28T06:06:25.888846Z"
    },
    "papermill": {
     "duration": 0.033901,
     "end_time": "2024-12-28T06:06:25.892423",
     "exception": false,
     "start_time": "2024-12-28T06:06:25.858522",
     "status": "completed"
    },
    "tags": []
   },
   "outputs": [],
   "source": [
    "#remove null rows in embarked column.\n",
    "\n",
    "all_data.dropna(subset=['Embarked'], inplace=True)"
   ]
  },
  {
   "cell_type": "code",
   "execution_count": 22,
   "id": "c305ea72",
   "metadata": {
    "execution": {
     "iopub.execute_input": "2024-12-28T06:06:25.931404Z",
     "iopub.status.busy": "2024-12-28T06:06:25.931026Z",
     "iopub.status.idle": "2024-12-28T06:06:26.195839Z",
     "shell.execute_reply": "2024-12-28T06:06:26.194747Z"
    },
    "papermill": {
     "duration": 0.287253,
     "end_time": "2024-12-28T06:06:26.198314",
     "exception": false,
     "start_time": "2024-12-28T06:06:25.911061",
     "status": "completed"
    },
    "tags": []
   },
   "outputs": [
    {
     "data": {
      "text/plain": [
       "<Axes: >"
      ]
     },
     "execution_count": 22,
     "metadata": {},
     "output_type": "execute_result"
    },
    {
     "data": {
      "image/png": "[encoded data removed]",
      "text/plain": [
       "<Figure size 640x480 with 1 Axes>"
      ]
     },
     "metadata": {},
     "output_type": "display_data"
    }
   ],
   "source": [
    "#normalize the fare values because it was not a normal distribution\n",
    "\n",
    "all_data['norm_fare'] = np.log(all_data.Fare+1)\n",
    "all_data['norm_fare'].hist()"
   ]
  },
  {
   "cell_type": "code",
   "execution_count": 23,
   "id": "80e5cf7c",
   "metadata": {
    "execution": {
     "iopub.execute_input": "2024-12-28T06:06:26.238834Z",
     "iopub.status.busy": "2024-12-28T06:06:26.238454Z",
     "iopub.status.idle": "2024-12-28T06:06:26.249625Z",
     "shell.execute_reply": "2024-12-28T06:06:26.248402Z"
    },
    "papermill": {
     "duration": 0.034157,
     "end_time": "2024-12-28T06:06:26.251624",
     "exception": false,
     "start_time": "2024-12-28T06:06:26.217467",
     "status": "completed"
    },
    "tags": []
   },
   "outputs": [
    {
     "data": {
      "text/html": [
       "<div>\n",
       "<style scoped>\n",
       "    .dataframe tbody tr th:only-of-type {\n",
       "        vertical-align: middle;\n",
       "    }\n",
       "\n",
       "    .dataframe tbody tr th {\n",
       "        vertical-align: top;\n",
       "    }\n",
       "\n",
       "    .dataframe thead th {\n",
       "        text-align: right;\n",
       "    }\n",
       "</style>\n",
       "<table border=\"1\" class=\"dataframe\">\n",
       "  <thead>\n",
       "    <tr style=\"text-align: right;\">\n",
       "      <th></th>\n",
       "      <th>Survived</th>\n",
       "      <th>train_test</th>\n",
       "    </tr>\n",
       "  </thead>\n",
       "  <tbody>\n",
       "    <tr>\n",
       "      <th>413</th>\n",
       "      <td>NaN</td>\n",
       "      <td>0</td>\n",
       "    </tr>\n",
       "    <tr>\n",
       "      <th>414</th>\n",
       "      <td>NaN</td>\n",
       "      <td>0</td>\n",
       "    </tr>\n",
       "    <tr>\n",
       "      <th>415</th>\n",
       "      <td>NaN</td>\n",
       "      <td>0</td>\n",
       "    </tr>\n",
       "    <tr>\n",
       "      <th>416</th>\n",
       "      <td>NaN</td>\n",
       "      <td>0</td>\n",
       "    </tr>\n",
       "    <tr>\n",
       "      <th>417</th>\n",
       "      <td>NaN</td>\n",
       "      <td>0</td>\n",
       "    </tr>\n",
       "  </tbody>\n",
       "</table>\n",
       "</div>"
      ],
      "text/plain": [
       "     Survived  train_test\n",
       "413       NaN           0\n",
       "414       NaN           0\n",
       "415       NaN           0\n",
       "416       NaN           0\n",
       "417       NaN           0"
      ]
     },
     "execution_count": 23,
     "metadata": {},
     "output_type": "execute_result"
    }
   ],
   "source": [
    "all_data[['Survived', 'train_test']].tail()"
   ]
  },
  {
   "cell_type": "code",
   "execution_count": 24,
   "id": "7bea9843",
   "metadata": {
    "execution": {
     "iopub.execute_input": "2024-12-28T06:06:26.291661Z",
     "iopub.status.busy": "2024-12-28T06:06:26.291282Z",
     "iopub.status.idle": "2024-12-28T06:06:26.297086Z",
     "shell.execute_reply": "2024-12-28T06:06:26.296018Z"
    },
    "papermill": {
     "duration": 0.028643,
     "end_time": "2024-12-28T06:06:26.299328",
     "exception": false,
     "start_time": "2024-12-28T06:06:26.270685",
     "status": "completed"
    },
    "tags": []
   },
   "outputs": [],
   "source": [
    "#convert Passenger class to string data to be able to use get dummmies\n",
    "all_data.Pclass = all_data.Pclass.astype(str)"
   ]
  },
  {
   "cell_type": "code",
   "execution_count": 25,
   "id": "c17d8a42",
   "metadata": {
    "execution": {
     "iopub.execute_input": "2024-12-28T06:06:26.339820Z",
     "iopub.status.busy": "2024-12-28T06:06:26.339442Z",
     "iopub.status.idle": "2024-12-28T06:06:26.358022Z",
     "shell.execute_reply": "2024-12-28T06:06:26.356909Z"
    },
    "papermill": {
     "duration": 0.041746,
     "end_time": "2024-12-28T06:06:26.360320",
     "exception": false,
     "start_time": "2024-12-28T06:06:26.318574",
     "status": "completed"
    },
    "tags": []
   },
   "outputs": [
    {
     "data": {
      "text/html": [
       "<div>\n",
       "<style scoped>\n",
       "    .dataframe tbody tr th:only-of-type {\n",
       "        vertical-align: middle;\n",
       "    }\n",
       "\n",
       "    .dataframe tbody tr th {\n",
       "        vertical-align: top;\n",
       "    }\n",
       "\n",
       "    .dataframe thead th {\n",
       "        text-align: right;\n",
       "    }\n",
       "</style>\n",
       "<table border=\"1\" class=\"dataframe\">\n",
       "  <thead>\n",
       "    <tr style=\"text-align: right;\">\n",
       "      <th></th>\n",
       "      <th>PassengerId</th>\n",
       "      <th>Survived</th>\n",
       "      <th>Pclass</th>\n",
       "      <th>Name</th>\n",
       "      <th>Sex</th>\n",
       "      <th>Age</th>\n",
       "      <th>SibSp</th>\n",
       "      <th>Parch</th>\n",
       "      <th>Ticket</th>\n",
       "      <th>Fare</th>\n",
       "      <th>Cabin</th>\n",
       "      <th>Embarked</th>\n",
       "      <th>train_test</th>\n",
       "      <th>cabin_multiple</th>\n",
       "      <th>cabin_adv</th>\n",
       "      <th>numeric_ticket</th>\n",
       "      <th>name_title</th>\n",
       "      <th>norm_fare</th>\n",
       "    </tr>\n",
       "  </thead>\n",
       "  <tbody>\n",
       "    <tr>\n",
       "      <th>0</th>\n",
       "      <td>1</td>\n",
       "      <td>0.0</td>\n",
       "      <td>3</td>\n",
       "      <td>Braund, Mr. Owen Harris</td>\n",
       "      <td>male</td>\n",
       "      <td>22.0</td>\n",
       "      <td>1</td>\n",
       "      <td>0</td>\n",
       "      <td>A/5 21171</td>\n",
       "      <td>7.2500</td>\n",
       "      <td>NaN</td>\n",
       "      <td>S</td>\n",
       "      <td>1</td>\n",
       "      <td>0</td>\n",
       "      <td>n</td>\n",
       "      <td>0</td>\n",
       "      <td>Mr</td>\n",
       "      <td>2.110213</td>\n",
       "    </tr>\n",
       "    <tr>\n",
       "      <th>1</th>\n",
       "      <td>2</td>\n",
       "      <td>1.0</td>\n",
       "      <td>1</td>\n",
       "      <td>Cumings, Mrs. John Bradley (Florence Briggs Th...</td>\n",
       "      <td>female</td>\n",
       "      <td>38.0</td>\n",
       "      <td>1</td>\n",
       "      <td>0</td>\n",
       "      <td>PC 17599</td>\n",
       "      <td>71.2833</td>\n",
       "      <td>C85</td>\n",
       "      <td>C</td>\n",
       "      <td>1</td>\n",
       "      <td>1</td>\n",
       "      <td>C</td>\n",
       "      <td>0</td>\n",
       "      <td>Mrs</td>\n",
       "      <td>4.280593</td>\n",
       "    </tr>\n",
       "    <tr>\n",
       "      <th>2</th>\n",
       "      <td>3</td>\n",
       "      <td>1.0</td>\n",
       "      <td>3</td>\n",
       "      <td>Heikkinen, Miss. Laina</td>\n",
       "      <td>female</td>\n",
       "      <td>26.0</td>\n",
       "      <td>0</td>\n",
       "      <td>0</td>\n",
       "      <td>STON/O2. 3101282</td>\n",
       "      <td>7.9250</td>\n",
       "      <td>NaN</td>\n",
       "      <td>S</td>\n",
       "      <td>1</td>\n",
       "      <td>0</td>\n",
       "      <td>n</td>\n",
       "      <td>0</td>\n",
       "      <td>Miss</td>\n",
       "      <td>2.188856</td>\n",
       "    </tr>\n",
       "    <tr>\n",
       "      <th>3</th>\n",
       "      <td>4</td>\n",
       "      <td>1.0</td>\n",
       "      <td>1</td>\n",
       "      <td>Futrelle, Mrs. Jacques Heath (Lily May Peel)</td>\n",
       "      <td>female</td>\n",
       "      <td>35.0</td>\n",
       "      <td>1</td>\n",
       "      <td>0</td>\n",
       "      <td>113803</td>\n",
       "      <td>53.1000</td>\n",
       "      <td>C123</td>\n",
       "      <td>S</td>\n",
       "      <td>1</td>\n",
       "      <td>1</td>\n",
       "      <td>C</td>\n",
       "      <td>1</td>\n",
       "      <td>Mrs</td>\n",
       "      <td>3.990834</td>\n",
       "    </tr>\n",
       "    <tr>\n",
       "      <th>4</th>\n",
       "      <td>5</td>\n",
       "      <td>0.0</td>\n",
       "      <td>3</td>\n",
       "      <td>Allen, Mr. William Henry</td>\n",
       "      <td>male</td>\n",
       "      <td>35.0</td>\n",
       "      <td>0</td>\n",
       "      <td>0</td>\n",
       "      <td>373450</td>\n",
       "      <td>8.0500</td>\n",
       "      <td>NaN</td>\n",
       "      <td>S</td>\n",
       "      <td>1</td>\n",
       "      <td>0</td>\n",
       "      <td>n</td>\n",
       "      <td>1</td>\n",
       "      <td>Mr</td>\n",
       "      <td>2.202765</td>\n",
       "    </tr>\n",
       "  </tbody>\n",
       "</table>\n",
       "</div>"
      ],
      "text/plain": [
       "   PassengerId  Survived Pclass  \\\n",
       "0            1       0.0      3   \n",
       "1            2       1.0      1   \n",
       "2            3       1.0      3   \n",
       "3            4       1.0      1   \n",
       "4            5       0.0      3   \n",
       "\n",
       "                                                Name     Sex   Age  SibSp  \\\n",
       "0                            Braund, Mr. Owen Harris    male  22.0      1   \n",
       "1  Cumings, Mrs. John Bradley (Florence Briggs Th...  female  38.0      1   \n",
       "2                             Heikkinen, Miss. Laina  female  26.0      0   \n",
       "3       Futrelle, Mrs. Jacques Heath (Lily May Peel)  female  35.0      1   \n",
       "4                           Allen, Mr. William Henry    male  35.0      0   \n",
       "\n",
       "   Parch            Ticket     Fare Cabin Embarked  train_test  \\\n",
       "0      0         A/5 21171   7.2500   NaN        S           1   \n",
       "1      0          PC 17599  71.2833   C85        C           1   \n",
       "2      0  STON/O2. 3101282   7.9250   NaN        S           1   \n",
       "3      0            113803  53.1000  C123        S           1   \n",
       "4      0            373450   8.0500   NaN        S           1   \n",
       "\n",
       "   cabin_multiple cabin_adv  numeric_ticket name_title  norm_fare  \n",
       "0               0         n               0         Mr   2.110213  \n",
       "1               1         C               0        Mrs   4.280593  \n",
       "2               0         n               0       Miss   2.188856  \n",
       "3               1         C               1        Mrs   3.990834  \n",
       "4               0         n               1         Mr   2.202765  "
      ]
     },
     "execution_count": 25,
     "metadata": {},
     "output_type": "execute_result"
    }
   ],
   "source": [
    "all_data.head()"
   ]
  },
  {
   "cell_type": "code",
   "execution_count": 26,
   "id": "5c9c7e9c",
   "metadata": {
    "execution": {
     "iopub.execute_input": "2024-12-28T06:06:26.401530Z",
     "iopub.status.busy": "2024-12-28T06:06:26.401137Z",
     "iopub.status.idle": "2024-12-28T06:06:26.414912Z",
     "shell.execute_reply": "2024-12-28T06:06:26.413751Z"
    },
    "papermill": {
     "duration": 0.037326,
     "end_time": "2024-12-28T06:06:26.417633",
     "exception": false,
     "start_time": "2024-12-28T06:06:26.380307",
     "status": "completed"
    },
    "tags": []
   },
   "outputs": [],
   "source": [
    "#create dummy variables from all categorical variables\n",
    "all_dummies = pd.get_dummies(all_data[['Pclass', 'Sex', 'Age', 'SibSp', 'Parch', 'norm_fare', 'name_title', 'numeric_ticket', 'cabin_adv', 'cabin_multiple', 'Embarked', 'train_test']])"
   ]
  },
  {
   "cell_type": "code",
   "execution_count": 27,
   "id": "cbc98406",
   "metadata": {
    "execution": {
     "iopub.execute_input": "2024-12-28T06:06:26.460112Z",
     "iopub.status.busy": "2024-12-28T06:06:26.459002Z",
     "iopub.status.idle": "2024-12-28T06:06:26.494258Z",
     "shell.execute_reply": "2024-12-28T06:06:26.493064Z"
    },
    "papermill": {
     "duration": 0.059483,
     "end_time": "2024-12-28T06:06:26.496634",
     "exception": false,
     "start_time": "2024-12-28T06:06:26.437151",
     "status": "completed"
    },
    "tags": []
   },
   "outputs": [
    {
     "data": {
      "text/html": [
       "<div>\n",
       "<style scoped>\n",
       "    .dataframe tbody tr th:only-of-type {\n",
       "        vertical-align: middle;\n",
       "    }\n",
       "\n",
       "    .dataframe tbody tr th {\n",
       "        vertical-align: top;\n",
       "    }\n",
       "\n",
       "    .dataframe thead th {\n",
       "        text-align: right;\n",
       "    }\n",
       "</style>\n",
       "<table border=\"1\" class=\"dataframe\">\n",
       "  <thead>\n",
       "    <tr style=\"text-align: right;\">\n",
       "      <th></th>\n",
       "      <th>Age</th>\n",
       "      <th>SibSp</th>\n",
       "      <th>Parch</th>\n",
       "      <th>norm_fare</th>\n",
       "      <th>numeric_ticket</th>\n",
       "      <th>cabin_multiple</th>\n",
       "      <th>train_test</th>\n",
       "      <th>Pclass_1</th>\n",
       "      <th>Pclass_2</th>\n",
       "      <th>Pclass_3</th>\n",
       "      <th>Sex_female</th>\n",
       "      <th>Sex_male</th>\n",
       "      <th>name_title_Capt</th>\n",
       "      <th>name_title_Col</th>\n",
       "      <th>name_title_Don</th>\n",
       "      <th>name_title_Dona</th>\n",
       "      <th>name_title_Dr</th>\n",
       "      <th>name_title_Jonkheer</th>\n",
       "      <th>name_title_Lady</th>\n",
       "      <th>name_title_Major</th>\n",
       "      <th>name_title_Master</th>\n",
       "      <th>name_title_Miss</th>\n",
       "      <th>name_title_Mlle</th>\n",
       "      <th>name_title_Mme</th>\n",
       "      <th>name_title_Mr</th>\n",
       "      <th>name_title_Mrs</th>\n",
       "      <th>name_title_Ms</th>\n",
       "      <th>name_title_Rev</th>\n",
       "      <th>name_title_Sir</th>\n",
       "      <th>name_title_the Countess</th>\n",
       "      <th>cabin_adv_A</th>\n",
       "      <th>cabin_adv_B</th>\n",
       "      <th>cabin_adv_C</th>\n",
       "      <th>cabin_adv_D</th>\n",
       "      <th>cabin_adv_E</th>\n",
       "      <th>cabin_adv_F</th>\n",
       "      <th>cabin_adv_G</th>\n",
       "      <th>cabin_adv_T</th>\n",
       "      <th>cabin_adv_n</th>\n",
       "      <th>Embarked_C</th>\n",
       "      <th>Embarked_Q</th>\n",
       "      <th>Embarked_S</th>\n",
       "    </tr>\n",
       "  </thead>\n",
       "  <tbody>\n",
       "    <tr>\n",
       "      <th>0</th>\n",
       "      <td>22.0</td>\n",
       "      <td>1</td>\n",
       "      <td>0</td>\n",
       "      <td>2.110213</td>\n",
       "      <td>0</td>\n",
       "      <td>0</td>\n",
       "      <td>1</td>\n",
       "      <td>False</td>\n",
       "      <td>False</td>\n",
       "      <td>True</td>\n",
       "      <td>False</td>\n",
       "      <td>True</td>\n",
       "      <td>False</td>\n",
       "      <td>False</td>\n",
       "      <td>False</td>\n",
       "      <td>False</td>\n",
       "      <td>False</td>\n",
       "      <td>False</td>\n",
       "      <td>False</td>\n",
       "      <td>False</td>\n",
       "      <td>False</td>\n",
       "      <td>False</td>\n",
       "      <td>False</td>\n",
       "      <td>False</td>\n",
       "      <td>True</td>\n",
       "      <td>False</td>\n",
       "      <td>False</td>\n",
       "      <td>False</td>\n",
       "      <td>False</td>\n",
       "      <td>False</td>\n",
       "      <td>False</td>\n",
       "      <td>False</td>\n",
       "      <td>False</td>\n",
       "      <td>False</td>\n",
       "      <td>False</td>\n",
       "      <td>False</td>\n",
       "      <td>False</td>\n",
       "      <td>False</td>\n",
       "      <td>True</td>\n",
       "      <td>False</td>\n",
       "      <td>False</td>\n",
       "      <td>True</td>\n",
       "    </tr>\n",
       "    <tr>\n",
       "      <th>1</th>\n",
       "      <td>38.0</td>\n",
       "      <td>1</td>\n",
       "      <td>0</td>\n",
       "      <td>4.280593</td>\n",
       "      <td>0</td>\n",
       "      <td>1</td>\n",
       "      <td>1</td>\n",
       "      <td>True</td>\n",
       "      <td>False</td>\n",
       "      <td>False</td>\n",
       "      <td>True</td>\n",
       "      <td>False</td>\n",
       "      <td>False</td>\n",
       "      <td>False</td>\n",
       "      <td>False</td>\n",
       "      <td>False</td>\n",
       "      <td>False</td>\n",
       "      <td>False</td>\n",
       "      <td>False</td>\n",
       "      <td>False</td>\n",
       "      <td>False</td>\n",
       "      <td>False</td>\n",
       "      <td>False</td>\n",
       "      <td>False</td>\n",
       "      <td>False</td>\n",
       "      <td>True</td>\n",
       "      <td>False</td>\n",
       "      <td>False</td>\n",
       "      <td>False</td>\n",
       "      <td>False</td>\n",
       "      <td>False</td>\n",
       "      <td>False</td>\n",
       "      <td>True</td>\n",
       "      <td>False</td>\n",
       "      <td>False</td>\n",
       "      <td>False</td>\n",
       "      <td>False</td>\n",
       "      <td>False</td>\n",
       "      <td>False</td>\n",
       "      <td>True</td>\n",
       "      <td>False</td>\n",
       "      <td>False</td>\n",
       "    </tr>\n",
       "    <tr>\n",
       "      <th>2</th>\n",
       "      <td>26.0</td>\n",
       "      <td>0</td>\n",
       "      <td>0</td>\n",
       "      <td>2.188856</td>\n",
       "      <td>0</td>\n",
       "      <td>0</td>\n",
       "      <td>1</td>\n",
       "      <td>False</td>\n",
       "      <td>False</td>\n",
       "      <td>True</td>\n",
       "      <td>True</td>\n",
       "      <td>False</td>\n",
       "      <td>False</td>\n",
       "      <td>False</td>\n",
       "      <td>False</td>\n",
       "      <td>False</td>\n",
       "      <td>False</td>\n",
       "      <td>False</td>\n",
       "      <td>False</td>\n",
       "      <td>False</td>\n",
       "      <td>False</td>\n",
       "      <td>True</td>\n",
       "      <td>False</td>\n",
       "      <td>False</td>\n",
       "      <td>False</td>\n",
       "      <td>False</td>\n",
       "      <td>False</td>\n",
       "      <td>False</td>\n",
       "      <td>False</td>\n",
       "      <td>False</td>\n",
       "      <td>False</td>\n",
       "      <td>False</td>\n",
       "      <td>False</td>\n",
       "      <td>False</td>\n",
       "      <td>False</td>\n",
       "      <td>False</td>\n",
       "      <td>False</td>\n",
       "      <td>False</td>\n",
       "      <td>True</td>\n",
       "      <td>False</td>\n",
       "      <td>False</td>\n",
       "      <td>True</td>\n",
       "    </tr>\n",
       "    <tr>\n",
       "      <th>3</th>\n",
       "      <td>35.0</td>\n",
       "      <td>1</td>\n",
       "      <td>0</td>\n",
       "      <td>3.990834</td>\n",
       "      <td>1</td>\n",
       "      <td>1</td>\n",
       "      <td>1</td>\n",
       "      <td>True</td>\n",
       "      <td>False</td>\n",
       "      <td>False</td>\n",
       "      <td>True</td>\n",
       "      <td>False</td>\n",
       "      <td>False</td>\n",
       "      <td>False</td>\n",
       "      <td>False</td>\n",
       "      <td>False</td>\n",
       "      <td>False</td>\n",
       "      <td>False</td>\n",
       "      <td>False</td>\n",
       "      <td>False</td>\n",
       "      <td>False</td>\n",
       "      <td>False</td>\n",
       "      <td>False</td>\n",
       "      <td>False</td>\n",
       "      <td>False</td>\n",
       "      <td>True</td>\n",
       "      <td>False</td>\n",
       "      <td>False</td>\n",
       "      <td>False</td>\n",
       "      <td>False</td>\n",
       "      <td>False</td>\n",
       "      <td>False</td>\n",
       "      <td>True</td>\n",
       "      <td>False</td>\n",
       "      <td>False</td>\n",
       "      <td>False</td>\n",
       "      <td>False</td>\n",
       "      <td>False</td>\n",
       "      <td>False</td>\n",
       "      <td>False</td>\n",
       "      <td>False</td>\n",
       "      <td>True</td>\n",
       "    </tr>\n",
       "    <tr>\n",
       "      <th>4</th>\n",
       "      <td>35.0</td>\n",
       "      <td>0</td>\n",
       "      <td>0</td>\n",
       "      <td>2.202765</td>\n",
       "      <td>1</td>\n",
       "      <td>0</td>\n",
       "      <td>1</td>\n",
       "      <td>False</td>\n",
       "      <td>False</td>\n",
       "      <td>True</td>\n",
       "      <td>False</td>\n",
       "      <td>True</td>\n",
       "      <td>False</td>\n",
       "      <td>False</td>\n",
       "      <td>False</td>\n",
       "      <td>False</td>\n",
       "      <td>False</td>\n",
       "      <td>False</td>\n",
       "      <td>False</td>\n",
       "      <td>False</td>\n",
       "      <td>False</td>\n",
       "      <td>False</td>\n",
       "      <td>False</td>\n",
       "      <td>False</td>\n",
       "      <td>True</td>\n",
       "      <td>False</td>\n",
       "      <td>False</td>\n",
       "      <td>False</td>\n",
       "      <td>False</td>\n",
       "      <td>False</td>\n",
       "      <td>False</td>\n",
       "      <td>False</td>\n",
       "      <td>False</td>\n",
       "      <td>False</td>\n",
       "      <td>False</td>\n",
       "      <td>False</td>\n",
       "      <td>False</td>\n",
       "      <td>False</td>\n",
       "      <td>True</td>\n",
       "      <td>False</td>\n",
       "      <td>False</td>\n",
       "      <td>True</td>\n",
       "    </tr>\n",
       "    <tr>\n",
       "      <th>...</th>\n",
       "      <td>...</td>\n",
       "      <td>...</td>\n",
       "      <td>...</td>\n",
       "      <td>...</td>\n",
       "      <td>...</td>\n",
       "      <td>...</td>\n",
       "      <td>...</td>\n",
       "      <td>...</td>\n",
       "      <td>...</td>\n",
       "      <td>...</td>\n",
       "      <td>...</td>\n",
       "      <td>...</td>\n",
       "      <td>...</td>\n",
       "      <td>...</td>\n",
       "      <td>...</td>\n",
       "      <td>...</td>\n",
       "      <td>...</td>\n",
       "      <td>...</td>\n",
       "      <td>...</td>\n",
       "      <td>...</td>\n",
       "      <td>...</td>\n",
       "      <td>...</td>\n",
       "      <td>...</td>\n",
       "      <td>...</td>\n",
       "      <td>...</td>\n",
       "      <td>...</td>\n",
       "      <td>...</td>\n",
       "      <td>...</td>\n",
       "      <td>...</td>\n",
       "      <td>...</td>\n",
       "      <td>...</td>\n",
       "      <td>...</td>\n",
       "      <td>...</td>\n",
       "      <td>...</td>\n",
       "      <td>...</td>\n",
       "      <td>...</td>\n",
       "      <td>...</td>\n",
       "      <td>...</td>\n",
       "      <td>...</td>\n",
       "      <td>...</td>\n",
       "      <td>...</td>\n",
       "      <td>...</td>\n",
       "    </tr>\n",
       "    <tr>\n",
       "      <th>413</th>\n",
       "      <td>28.0</td>\n",
       "      <td>0</td>\n",
       "      <td>0</td>\n",
       "      <td>2.202765</td>\n",
       "      <td>0</td>\n",
       "      <td>0</td>\n",
       "      <td>0</td>\n",
       "      <td>False</td>\n",
       "      <td>False</td>\n",
       "      <td>True</td>\n",
       "      <td>False</td>\n",
       "      <td>True</td>\n",
       "      <td>False</td>\n",
       "      <td>False</td>\n",
       "      <td>False</td>\n",
       "      <td>False</td>\n",
       "      <td>False</td>\n",
       "      <td>False</td>\n",
       "      <td>False</td>\n",
       "      <td>False</td>\n",
       "      <td>False</td>\n",
       "      <td>False</td>\n",
       "      <td>False</td>\n",
       "      <td>False</td>\n",
       "      <td>True</td>\n",
       "      <td>False</td>\n",
       "      <td>False</td>\n",
       "      <td>False</td>\n",
       "      <td>False</td>\n",
       "      <td>False</td>\n",
       "      <td>False</td>\n",
       "      <td>False</td>\n",
       "      <td>False</td>\n",
       "      <td>False</td>\n",
       "      <td>False</td>\n",
       "      <td>False</td>\n",
       "      <td>False</td>\n",
       "      <td>False</td>\n",
       "      <td>True</td>\n",
       "      <td>False</td>\n",
       "      <td>False</td>\n",
       "      <td>True</td>\n",
       "    </tr>\n",
       "    <tr>\n",
       "      <th>414</th>\n",
       "      <td>39.0</td>\n",
       "      <td>0</td>\n",
       "      <td>0</td>\n",
       "      <td>4.699571</td>\n",
       "      <td>0</td>\n",
       "      <td>1</td>\n",
       "      <td>0</td>\n",
       "      <td>True</td>\n",
       "      <td>False</td>\n",
       "      <td>False</td>\n",
       "      <td>True</td>\n",
       "      <td>False</td>\n",
       "      <td>False</td>\n",
       "      <td>False</td>\n",
       "      <td>False</td>\n",
       "      <td>True</td>\n",
       "      <td>False</td>\n",
       "      <td>False</td>\n",
       "      <td>False</td>\n",
       "      <td>False</td>\n",
       "      <td>False</td>\n",
       "      <td>False</td>\n",
       "      <td>False</td>\n",
       "      <td>False</td>\n",
       "      <td>False</td>\n",
       "      <td>False</td>\n",
       "      <td>False</td>\n",
       "      <td>False</td>\n",
       "      <td>False</td>\n",
       "      <td>False</td>\n",
       "      <td>False</td>\n",
       "      <td>False</td>\n",
       "      <td>True</td>\n",
       "      <td>False</td>\n",
       "      <td>False</td>\n",
       "      <td>False</td>\n",
       "      <td>False</td>\n",
       "      <td>False</td>\n",
       "      <td>False</td>\n",
       "      <td>True</td>\n",
       "      <td>False</td>\n",
       "      <td>False</td>\n",
       "    </tr>\n",
       "    <tr>\n",
       "      <th>415</th>\n",
       "      <td>38.5</td>\n",
       "      <td>0</td>\n",
       "      <td>0</td>\n",
       "      <td>2.110213</td>\n",
       "      <td>0</td>\n",
       "      <td>0</td>\n",
       "      <td>0</td>\n",
       "      <td>False</td>\n",
       "      <td>False</td>\n",
       "      <td>True</td>\n",
       "      <td>False</td>\n",
       "      <td>True</td>\n",
       "      <td>False</td>\n",
       "      <td>False</td>\n",
       "      <td>False</td>\n",
       "      <td>False</td>\n",
       "      <td>False</td>\n",
       "      <td>False</td>\n",
       "      <td>False</td>\n",
       "      <td>False</td>\n",
       "      <td>False</td>\n",
       "      <td>False</td>\n",
       "      <td>False</td>\n",
       "      <td>False</td>\n",
       "      <td>True</td>\n",
       "      <td>False</td>\n",
       "      <td>False</td>\n",
       "      <td>False</td>\n",
       "      <td>False</td>\n",
       "      <td>False</td>\n",
       "      <td>False</td>\n",
       "      <td>False</td>\n",
       "      <td>False</td>\n",
       "      <td>False</td>\n",
       "      <td>False</td>\n",
       "      <td>False</td>\n",
       "      <td>False</td>\n",
       "      <td>False</td>\n",
       "      <td>True</td>\n",
       "      <td>False</td>\n",
       "      <td>False</td>\n",
       "      <td>True</td>\n",
       "    </tr>\n",
       "    <tr>\n",
       "      <th>416</th>\n",
       "      <td>28.0</td>\n",
       "      <td>0</td>\n",
       "      <td>0</td>\n",
       "      <td>2.202765</td>\n",
       "      <td>1</td>\n",
       "      <td>0</td>\n",
       "      <td>0</td>\n",
       "      <td>False</td>\n",
       "      <td>False</td>\n",
       "      <td>True</td>\n",
       "      <td>False</td>\n",
       "      <td>True</td>\n",
       "      <td>False</td>\n",
       "      <td>False</td>\n",
       "      <td>False</td>\n",
       "      <td>False</td>\n",
       "      <td>False</td>\n",
       "      <td>False</td>\n",
       "      <td>False</td>\n",
       "      <td>False</td>\n",
       "      <td>False</td>\n",
       "      <td>False</td>\n",
       "      <td>False</td>\n",
       "      <td>False</td>\n",
       "      <td>True</td>\n",
       "      <td>False</td>\n",
       "      <td>False</td>\n",
       "      <td>False</td>\n",
       "      <td>False</td>\n",
       "      <td>False</td>\n",
       "      <td>False</td>\n",
       "      <td>False</td>\n",
       "      <td>False</td>\n",
       "      <td>False</td>\n",
       "      <td>False</td>\n",
       "      <td>False</td>\n",
       "      <td>False</td>\n",
       "      <td>False</td>\n",
       "      <td>True</td>\n",
       "      <td>False</td>\n",
       "      <td>False</td>\n",
       "      <td>True</td>\n",
       "    </tr>\n",
       "    <tr>\n",
       "      <th>417</th>\n",
       "      <td>28.0</td>\n",
       "      <td>1</td>\n",
       "      <td>1</td>\n",
       "      <td>3.150952</td>\n",
       "      <td>1</td>\n",
       "      <td>0</td>\n",
       "      <td>0</td>\n",
       "      <td>False</td>\n",
       "      <td>False</td>\n",
       "      <td>True</td>\n",
       "      <td>False</td>\n",
       "      <td>True</td>\n",
       "      <td>False</td>\n",
       "      <td>False</td>\n",
       "      <td>False</td>\n",
       "      <td>False</td>\n",
       "      <td>False</td>\n",
       "      <td>False</td>\n",
       "      <td>False</td>\n",
       "      <td>False</td>\n",
       "      <td>True</td>\n",
       "      <td>False</td>\n",
       "      <td>False</td>\n",
       "      <td>False</td>\n",
       "      <td>False</td>\n",
       "      <td>False</td>\n",
       "      <td>False</td>\n",
       "      <td>False</td>\n",
       "      <td>False</td>\n",
       "      <td>False</td>\n",
       "      <td>False</td>\n",
       "      <td>False</td>\n",
       "      <td>False</td>\n",
       "      <td>False</td>\n",
       "      <td>False</td>\n",
       "      <td>False</td>\n",
       "      <td>False</td>\n",
       "      <td>False</td>\n",
       "      <td>True</td>\n",
       "      <td>True</td>\n",
       "      <td>False</td>\n",
       "      <td>False</td>\n",
       "    </tr>\n",
       "  </tbody>\n",
       "</table>\n",
       "<p>1307 rows × 42 columns</p>\n",
       "</div>"
      ],
      "text/plain": [
       "      Age  SibSp  Parch  norm_fare  numeric_ticket  cabin_multiple  \\\n",
       "0    22.0      1      0   2.110213               0               0   \n",
       "1    38.0      1      0   4.280593               0               1   \n",
       "2    26.0      0      0   2.188856               0               0   \n",
       "3    35.0      1      0   3.990834               1               1   \n",
       "4    35.0      0      0   2.202765               1               0   \n",
       "..    ...    ...    ...        ...             ...             ...   \n",
       "413  28.0      0      0   2.202765               0               0   \n",
       "414  39.0      0      0   4.699571               0               1   \n",
       "415  38.5      0      0   2.110213               0               0   \n",
       "416  28.0      0      0   2.202765               1               0   \n",
       "417  28.0      1      1   3.150952               1               0   \n",
       "\n",
       "     train_test  Pclass_1  Pclass_2  Pclass_3  Sex_female  Sex_male  \\\n",
       "0             1     False     False      True       False      True   \n",
       "1             1      True     False     False        True     False   \n",
       "2             1     False     False      True        True     False   \n",
       "3             1      True     False     False        True     False   \n",
       "4             1     False     False      True       False      True   \n",
       "..          ...       ...       ...       ...         ...       ...   \n",
       "413           0     False     False      True       False      True   \n",
       "414           0      True     False     False        True     False   \n",
       "415           0     False     False      True       False      True   \n",
       "416           0     False     False      True       False      True   \n",
       "417           0     False     False      True       False      True   \n",
       "\n",
       "     name_title_Capt  name_title_Col  name_title_Don  name_title_Dona  \\\n",
       "0              False           False           False            False   \n",
       "1              False           False           False            False   \n",
       "2              False           False           False            False   \n",
       "3              False           False           False            False   \n",
       "4              False           False           False            False   \n",
       "..               ...             ...             ...              ...   \n",
       "413            False           False           False            False   \n",
       "414            False           False           False             True   \n",
       "415            False           False           False            False   \n",
       "416            False           False           False            False   \n",
       "417            False           False           False            False   \n",
       "\n",
       "     name_title_Dr  name_title_Jonkheer  name_title_Lady  name_title_Major  \\\n",
       "0            False                False            False             False   \n",
       "1            False                False            False             False   \n",
       "2            False                False            False             False   \n",
       "3            False                False            False             False   \n",
       "4            False                False            False             False   \n",
       "..             ...                  ...              ...               ...   \n",
       "413          False                False            False             False   \n",
       "414          False                False            False             False   \n",
       "415          False                False            False             False   \n",
       "416          False                False            False             False   \n",
       "417          False                False            False             False   \n",
       "\n",
       "     name_title_Master  name_title_Miss  name_title_Mlle  name_title_Mme  \\\n",
       "0                False            False            False           False   \n",
       "1                False            False            False           False   \n",
       "2                False             True            False           False   \n",
       "3                False            False            False           False   \n",
       "4                False            False            False           False   \n",
       "..                 ...              ...              ...             ...   \n",
       "413              False            False            False           False   \n",
       "414              False            False            False           False   \n",
       "415              False            False            False           False   \n",
       "416              False            False            False           False   \n",
       "417               True            False            False           False   \n",
       "\n",
       "     name_title_Mr  name_title_Mrs  name_title_Ms  name_title_Rev  \\\n",
       "0             True           False          False           False   \n",
       "1            False            True          False           False   \n",
       "2            False           False          False           False   \n",
       "3            False            True          False           False   \n",
       "4             True           False          False           False   \n",
       "..             ...             ...            ...             ...   \n",
       "413           True           False          False           False   \n",
       "414          False           False          False           False   \n",
       "415           True           False          False           False   \n",
       "416           True           False          False           False   \n",
       "417          False           False          False           False   \n",
       "\n",
       "     name_title_Sir  name_title_the Countess  cabin_adv_A  cabin_adv_B  \\\n",
       "0             False                    False        False        False   \n",
       "1             False                    False        False        False   \n",
       "2             False                    False        False        False   \n",
       "3             False                    False        False        False   \n",
       "4             False                    False        False        False   \n",
       "..              ...                      ...          ...          ...   \n",
       "413           False                    False        False        False   \n",
       "414           False                    False        False        False   \n",
       "415           False                    False        False        False   \n",
       "416           False                    False        False        False   \n",
       "417           False                    False        False        False   \n",
       "\n",
       "     cabin_adv_C  cabin_adv_D  cabin_adv_E  cabin_adv_F  cabin_adv_G  \\\n",
       "0          False        False        False        False        False   \n",
       "1           True        False        False        False        False   \n",
       "2          False        False        False        False        False   \n",
       "3           True        False        False        False        False   \n",
       "4          False        False        False        False        False   \n",
       "..           ...          ...          ...          ...          ...   \n",
       "413        False        False        False        False        False   \n",
       "414         True        False        False        False        False   \n",
       "415        False        False        False        False        False   \n",
       "416        False        False        False        False        False   \n",
       "417        False        False        False        False        False   \n",
       "\n",
       "     cabin_adv_T  cabin_adv_n  Embarked_C  Embarked_Q  Embarked_S  \n",
       "0          False         True       False       False        True  \n",
       "1          False        False        True       False       False  \n",
       "2          False         True       False       False        True  \n",
       "3          False        False       False       False        True  \n",
       "4          False         True       False       False        True  \n",
       "..           ...          ...         ...         ...         ...  \n",
       "413        False         True       False       False        True  \n",
       "414        False        False        True       False       False  \n",
       "415        False         True       False       False        True  \n",
       "416        False         True       False       False        True  \n",
       "417        False         True        True       False       False  \n",
       "\n",
       "[1307 rows x 42 columns]"
      ]
     },
     "execution_count": 27,
     "metadata": {},
     "output_type": "execute_result"
    }
   ],
   "source": [
    "all_dummies"
   ]
  },
  {
   "cell_type": "markdown",
   "id": "6338be91",
   "metadata": {
    "papermill": {
     "duration": 0.020481,
     "end_time": "2024-12-28T06:06:26.538145",
     "exception": false,
     "start_time": "2024-12-28T06:06:26.517664",
     "status": "completed"
    },
    "tags": []
   },
   "source": [
    "# Scale and split the data"
   ]
  },
  {
   "cell_type": "code",
   "execution_count": 28,
   "id": "21442f2c",
   "metadata": {
    "execution": {
     "iopub.execute_input": "2024-12-28T06:06:26.583336Z",
     "iopub.status.busy": "2024-12-28T06:06:26.582903Z",
     "iopub.status.idle": "2024-12-28T06:06:26.789456Z",
     "shell.execute_reply": "2024-12-28T06:06:26.788290Z"
    },
    "papermill": {
     "duration": 0.232164,
     "end_time": "2024-12-28T06:06:26.791920",
     "exception": false,
     "start_time": "2024-12-28T06:06:26.559756",
     "status": "completed"
    },
    "tags": []
   },
   "outputs": [],
   "source": [
    "#scale data\n",
    "from sklearn.preprocessing import StandardScaler\n",
    "scale = StandardScaler()\n",
    "\n",
    "all_dummies_scaled = all_dummies.copy()\n",
    "all_dummies_scaled[['Age','SibSp','Parch','norm_fare']] = scale.fit_transform(all_dummies_scaled[['Age','SibSp','Parch','norm_fare']])"
   ]
  },
  {
   "cell_type": "code",
   "execution_count": 29,
   "id": "46749569",
   "metadata": {
    "execution": {
     "iopub.execute_input": "2024-12-28T06:06:26.834828Z",
     "iopub.status.busy": "2024-12-28T06:06:26.834420Z",
     "iopub.status.idle": "2024-12-28T06:06:26.866328Z",
     "shell.execute_reply": "2024-12-28T06:06:26.865220Z"
    },
    "papermill": {
     "duration": 0.056025,
     "end_time": "2024-12-28T06:06:26.868710",
     "exception": false,
     "start_time": "2024-12-28T06:06:26.812685",
     "status": "completed"
    },
    "tags": []
   },
   "outputs": [
    {
     "data": {
      "text/html": [
       "<div>\n",
       "<style scoped>\n",
       "    .dataframe tbody tr th:only-of-type {\n",
       "        vertical-align: middle;\n",
       "    }\n",
       "\n",
       "    .dataframe tbody tr th {\n",
       "        vertical-align: top;\n",
       "    }\n",
       "\n",
       "    .dataframe thead th {\n",
       "        text-align: right;\n",
       "    }\n",
       "</style>\n",
       "<table border=\"1\" class=\"dataframe\">\n",
       "  <thead>\n",
       "    <tr style=\"text-align: right;\">\n",
       "      <th></th>\n",
       "      <th>Age</th>\n",
       "      <th>SibSp</th>\n",
       "      <th>Parch</th>\n",
       "      <th>norm_fare</th>\n",
       "      <th>numeric_ticket</th>\n",
       "      <th>cabin_multiple</th>\n",
       "      <th>train_test</th>\n",
       "      <th>Pclass_1</th>\n",
       "      <th>Pclass_2</th>\n",
       "      <th>Pclass_3</th>\n",
       "      <th>Sex_female</th>\n",
       "      <th>Sex_male</th>\n",
       "      <th>name_title_Capt</th>\n",
       "      <th>name_title_Col</th>\n",
       "      <th>name_title_Don</th>\n",
       "      <th>name_title_Dona</th>\n",
       "      <th>name_title_Dr</th>\n",
       "      <th>name_title_Jonkheer</th>\n",
       "      <th>name_title_Lady</th>\n",
       "      <th>name_title_Major</th>\n",
       "      <th>name_title_Master</th>\n",
       "      <th>name_title_Miss</th>\n",
       "      <th>name_title_Mlle</th>\n",
       "      <th>name_title_Mme</th>\n",
       "      <th>name_title_Mr</th>\n",
       "      <th>name_title_Mrs</th>\n",
       "      <th>name_title_Ms</th>\n",
       "      <th>name_title_Rev</th>\n",
       "      <th>name_title_Sir</th>\n",
       "      <th>name_title_the Countess</th>\n",
       "      <th>cabin_adv_A</th>\n",
       "      <th>cabin_adv_B</th>\n",
       "      <th>cabin_adv_C</th>\n",
       "      <th>cabin_adv_D</th>\n",
       "      <th>cabin_adv_E</th>\n",
       "      <th>cabin_adv_F</th>\n",
       "      <th>cabin_adv_G</th>\n",
       "      <th>cabin_adv_T</th>\n",
       "      <th>cabin_adv_n</th>\n",
       "      <th>Embarked_C</th>\n",
       "      <th>Embarked_Q</th>\n",
       "      <th>Embarked_S</th>\n",
       "    </tr>\n",
       "  </thead>\n",
       "  <tbody>\n",
       "    <tr>\n",
       "      <th>0</th>\n",
       "      <td>-0.580261</td>\n",
       "      <td>0.480272</td>\n",
       "      <td>-0.445407</td>\n",
       "      <td>-0.896331</td>\n",
       "      <td>0</td>\n",
       "      <td>0</td>\n",
       "      <td>1</td>\n",
       "      <td>False</td>\n",
       "      <td>False</td>\n",
       "      <td>True</td>\n",
       "      <td>False</td>\n",
       "      <td>True</td>\n",
       "      <td>False</td>\n",
       "      <td>False</td>\n",
       "      <td>False</td>\n",
       "      <td>False</td>\n",
       "      <td>False</td>\n",
       "      <td>False</td>\n",
       "      <td>False</td>\n",
       "      <td>False</td>\n",
       "      <td>False</td>\n",
       "      <td>False</td>\n",
       "      <td>False</td>\n",
       "      <td>False</td>\n",
       "      <td>True</td>\n",
       "      <td>False</td>\n",
       "      <td>False</td>\n",
       "      <td>False</td>\n",
       "      <td>False</td>\n",
       "      <td>False</td>\n",
       "      <td>False</td>\n",
       "      <td>False</td>\n",
       "      <td>False</td>\n",
       "      <td>False</td>\n",
       "      <td>False</td>\n",
       "      <td>False</td>\n",
       "      <td>False</td>\n",
       "      <td>False</td>\n",
       "      <td>True</td>\n",
       "      <td>False</td>\n",
       "      <td>False</td>\n",
       "      <td>True</td>\n",
       "    </tr>\n",
       "    <tr>\n",
       "      <th>1</th>\n",
       "      <td>0.662297</td>\n",
       "      <td>0.480272</td>\n",
       "      <td>-0.445407</td>\n",
       "      <td>1.347870</td>\n",
       "      <td>0</td>\n",
       "      <td>1</td>\n",
       "      <td>1</td>\n",
       "      <td>True</td>\n",
       "      <td>False</td>\n",
       "      <td>False</td>\n",
       "      <td>True</td>\n",
       "      <td>False</td>\n",
       "      <td>False</td>\n",
       "      <td>False</td>\n",
       "      <td>False</td>\n",
       "      <td>False</td>\n",
       "      <td>False</td>\n",
       "      <td>False</td>\n",
       "      <td>False</td>\n",
       "      <td>False</td>\n",
       "      <td>False</td>\n",
       "      <td>False</td>\n",
       "      <td>False</td>\n",
       "      <td>False</td>\n",
       "      <td>False</td>\n",
       "      <td>True</td>\n",
       "      <td>False</td>\n",
       "      <td>False</td>\n",
       "      <td>False</td>\n",
       "      <td>False</td>\n",
       "      <td>False</td>\n",
       "      <td>False</td>\n",
       "      <td>True</td>\n",
       "      <td>False</td>\n",
       "      <td>False</td>\n",
       "      <td>False</td>\n",
       "      <td>False</td>\n",
       "      <td>False</td>\n",
       "      <td>False</td>\n",
       "      <td>True</td>\n",
       "      <td>False</td>\n",
       "      <td>False</td>\n",
       "    </tr>\n",
       "    <tr>\n",
       "      <th>2</th>\n",
       "      <td>-0.269621</td>\n",
       "      <td>-0.479537</td>\n",
       "      <td>-0.445407</td>\n",
       "      <td>-0.815013</td>\n",
       "      <td>0</td>\n",
       "      <td>0</td>\n",
       "      <td>1</td>\n",
       "      <td>False</td>\n",
       "      <td>False</td>\n",
       "      <td>True</td>\n",
       "      <td>True</td>\n",
       "      <td>False</td>\n",
       "      <td>False</td>\n",
       "      <td>False</td>\n",
       "      <td>False</td>\n",
       "      <td>False</td>\n",
       "      <td>False</td>\n",
       "      <td>False</td>\n",
       "      <td>False</td>\n",
       "      <td>False</td>\n",
       "      <td>False</td>\n",
       "      <td>True</td>\n",
       "      <td>False</td>\n",
       "      <td>False</td>\n",
       "      <td>False</td>\n",
       "      <td>False</td>\n",
       "      <td>False</td>\n",
       "      <td>False</td>\n",
       "      <td>False</td>\n",
       "      <td>False</td>\n",
       "      <td>False</td>\n",
       "      <td>False</td>\n",
       "      <td>False</td>\n",
       "      <td>False</td>\n",
       "      <td>False</td>\n",
       "      <td>False</td>\n",
       "      <td>False</td>\n",
       "      <td>False</td>\n",
       "      <td>True</td>\n",
       "      <td>False</td>\n",
       "      <td>False</td>\n",
       "      <td>True</td>\n",
       "    </tr>\n",
       "    <tr>\n",
       "      <th>3</th>\n",
       "      <td>0.429318</td>\n",
       "      <td>0.480272</td>\n",
       "      <td>-0.445407</td>\n",
       "      <td>1.048255</td>\n",
       "      <td>1</td>\n",
       "      <td>1</td>\n",
       "      <td>1</td>\n",
       "      <td>True</td>\n",
       "      <td>False</td>\n",
       "      <td>False</td>\n",
       "      <td>True</td>\n",
       "      <td>False</td>\n",
       "      <td>False</td>\n",
       "      <td>False</td>\n",
       "      <td>False</td>\n",
       "      <td>False</td>\n",
       "      <td>False</td>\n",
       "      <td>False</td>\n",
       "      <td>False</td>\n",
       "      <td>False</td>\n",
       "      <td>False</td>\n",
       "      <td>False</td>\n",
       "      <td>False</td>\n",
       "      <td>False</td>\n",
       "      <td>False</td>\n",
       "      <td>True</td>\n",
       "      <td>False</td>\n",
       "      <td>False</td>\n",
       "      <td>False</td>\n",
       "      <td>False</td>\n",
       "      <td>False</td>\n",
       "      <td>False</td>\n",
       "      <td>True</td>\n",
       "      <td>False</td>\n",
       "      <td>False</td>\n",
       "      <td>False</td>\n",
       "      <td>False</td>\n",
       "      <td>False</td>\n",
       "      <td>False</td>\n",
       "      <td>False</td>\n",
       "      <td>False</td>\n",
       "      <td>True</td>\n",
       "    </tr>\n",
       "    <tr>\n",
       "      <th>4</th>\n",
       "      <td>0.429318</td>\n",
       "      <td>-0.479537</td>\n",
       "      <td>-0.445407</td>\n",
       "      <td>-0.800632</td>\n",
       "      <td>1</td>\n",
       "      <td>0</td>\n",
       "      <td>1</td>\n",
       "      <td>False</td>\n",
       "      <td>False</td>\n",
       "      <td>True</td>\n",
       "      <td>False</td>\n",
       "      <td>True</td>\n",
       "      <td>False</td>\n",
       "      <td>False</td>\n",
       "      <td>False</td>\n",
       "      <td>False</td>\n",
       "      <td>False</td>\n",
       "      <td>False</td>\n",
       "      <td>False</td>\n",
       "      <td>False</td>\n",
       "      <td>False</td>\n",
       "      <td>False</td>\n",
       "      <td>False</td>\n",
       "      <td>False</td>\n",
       "      <td>True</td>\n",
       "      <td>False</td>\n",
       "      <td>False</td>\n",
       "      <td>False</td>\n",
       "      <td>False</td>\n",
       "      <td>False</td>\n",
       "      <td>False</td>\n",
       "      <td>False</td>\n",
       "      <td>False</td>\n",
       "      <td>False</td>\n",
       "      <td>False</td>\n",
       "      <td>False</td>\n",
       "      <td>False</td>\n",
       "      <td>False</td>\n",
       "      <td>True</td>\n",
       "      <td>False</td>\n",
       "      <td>False</td>\n",
       "      <td>True</td>\n",
       "    </tr>\n",
       "  </tbody>\n",
       "</table>\n",
       "</div>"
      ],
      "text/plain": [
       "        Age     SibSp     Parch  norm_fare  numeric_ticket  cabin_multiple  \\\n",
       "0 -0.580261  0.480272 -0.445407  -0.896331               0               0   \n",
       "1  0.662297  0.480272 -0.445407   1.347870               0               1   \n",
       "2 -0.269621 -0.479537 -0.445407  -0.815013               0               0   \n",
       "3  0.429318  0.480272 -0.445407   1.048255               1               1   \n",
       "4  0.429318 -0.479537 -0.445407  -0.800632               1               0   \n",
       "\n",
       "   train_test  Pclass_1  Pclass_2  Pclass_3  Sex_female  Sex_male  \\\n",
       "0           1     False     False      True       False      True   \n",
       "1           1      True     False     False        True     False   \n",
       "2           1     False     False      True        True     False   \n",
       "3           1      True     False     False        True     False   \n",
       "4           1     False     False      True       False      True   \n",
       "\n",
       "   name_title_Capt  name_title_Col  name_title_Don  name_title_Dona  \\\n",
       "0            False           False           False            False   \n",
       "1            False           False           False            False   \n",
       "2            False           False           False            False   \n",
       "3            False           False           False            False   \n",
       "4            False           False           False            False   \n",
       "\n",
       "   name_title_Dr  name_title_Jonkheer  name_title_Lady  name_title_Major  \\\n",
       "0          False                False            False             False   \n",
       "1          False                False            False             False   \n",
       "2          False                False            False             False   \n",
       "3          False                False            False             False   \n",
       "4          False                False            False             False   \n",
       "\n",
       "   name_title_Master  name_title_Miss  name_title_Mlle  name_title_Mme  \\\n",
       "0              False            False            False           False   \n",
       "1              False            False            False           False   \n",
       "2              False             True            False           False   \n",
       "3              False            False            False           False   \n",
       "4              False            False            False           False   \n",
       "\n",
       "   name_title_Mr  name_title_Mrs  name_title_Ms  name_title_Rev  \\\n",
       "0           True           False          False           False   \n",
       "1          False            True          False           False   \n",
       "2          False           False          False           False   \n",
       "3          False            True          False           False   \n",
       "4           True           False          False           False   \n",
       "\n",
       "   name_title_Sir  name_title_the Countess  cabin_adv_A  cabin_adv_B  \\\n",
       "0           False                    False        False        False   \n",
       "1           False                    False        False        False   \n",
       "2           False                    False        False        False   \n",
       "3           False                    False        False        False   \n",
       "4           False                    False        False        False   \n",
       "\n",
       "   cabin_adv_C  cabin_adv_D  cabin_adv_E  cabin_adv_F  cabin_adv_G  \\\n",
       "0        False        False        False        False        False   \n",
       "1         True        False        False        False        False   \n",
       "2        False        False        False        False        False   \n",
       "3         True        False        False        False        False   \n",
       "4        False        False        False        False        False   \n",
       "\n",
       "   cabin_adv_T  cabin_adv_n  Embarked_C  Embarked_Q  Embarked_S  \n",
       "0        False         True       False       False        True  \n",
       "1        False        False        True       False       False  \n",
       "2        False         True       False       False        True  \n",
       "3        False        False       False       False        True  \n",
       "4        False         True       False       False        True  "
      ]
     },
     "execution_count": 29,
     "metadata": {},
     "output_type": "execute_result"
    }
   ],
   "source": [
    "all_dummies_scaled.head()"
   ]
  },
  {
   "cell_type": "code",
   "execution_count": 30,
   "id": "3616e8ae",
   "metadata": {
    "execution": {
     "iopub.execute_input": "2024-12-28T06:06:26.921022Z",
     "iopub.status.busy": "2024-12-28T06:06:26.919725Z",
     "iopub.status.idle": "2024-12-28T06:06:27.054168Z",
     "shell.execute_reply": "2024-12-28T06:06:27.052877Z"
    },
    "papermill": {
     "duration": 0.166494,
     "end_time": "2024-12-28T06:06:27.057268",
     "exception": false,
     "start_time": "2024-12-28T06:06:26.890774",
     "status": "completed"
    },
    "tags": []
   },
   "outputs": [],
   "source": [
    "#Isolate X and y train and test sets\n",
    "\n",
    "from sklearn.model_selection import train_test_split\n",
    "\n",
    "X_train = all_dummies_scaled[all_dummies_scaled['train_test'] == 1].drop(['train_test'], axis = 1)\n",
    "y_train = all_data[all_data['train_test'] == 1].Survived\n",
    "X_test = all_dummies_scaled[all_dummies_scaled['train_test'] == 0].drop(['train_test'], axis = 1)\n"
   ]
  },
  {
   "cell_type": "code",
   "execution_count": 31,
   "id": "adcf9a57",
   "metadata": {
    "execution": {
     "iopub.execute_input": "2024-12-28T06:06:27.116329Z",
     "iopub.status.busy": "2024-12-28T06:06:27.114920Z",
     "iopub.status.idle": "2024-12-28T06:06:27.124705Z",
     "shell.execute_reply": "2024-12-28T06:06:27.123512Z"
    },
    "papermill": {
     "duration": 0.043561,
     "end_time": "2024-12-28T06:06:27.126984",
     "exception": false,
     "start_time": "2024-12-28T06:06:27.083423",
     "status": "completed"
    },
    "tags": []
   },
   "outputs": [
    {
     "data": {
      "text/plain": [
       "0      0.0\n",
       "1      1.0\n",
       "2      1.0\n",
       "3      1.0\n",
       "4      0.0\n",
       "      ... \n",
       "886    0.0\n",
       "887    1.0\n",
       "888    0.0\n",
       "889    1.0\n",
       "890    0.0\n",
       "Name: Survived, Length: 889, dtype: float64"
      ]
     },
     "execution_count": 31,
     "metadata": {},
     "output_type": "execute_result"
    }
   ],
   "source": [
    "y_train"
   ]
  },
  {
   "cell_type": "code",
   "execution_count": 32,
   "id": "78ac5ef2",
   "metadata": {
    "execution": {
     "iopub.execute_input": "2024-12-28T06:06:27.177417Z",
     "iopub.status.busy": "2024-12-28T06:06:27.177024Z",
     "iopub.status.idle": "2024-12-28T06:06:27.183054Z",
     "shell.execute_reply": "2024-12-28T06:06:27.181791Z"
    },
    "papermill": {
     "duration": 0.031677,
     "end_time": "2024-12-28T06:06:27.185831",
     "exception": false,
     "start_time": "2024-12-28T06:06:27.154154",
     "status": "completed"
    },
    "tags": []
   },
   "outputs": [
    {
     "name": "stdout",
     "output_type": "stream",
     "text": [
      "889\n",
      "418\n",
      "889\n"
     ]
    }
   ],
   "source": [
    "for x in [X_train, X_test, y_train]:\n",
    "    print(len(x))\n"
   ]
  },
  {
   "cell_type": "markdown",
   "id": "ce1aafb2",
   "metadata": {
    "papermill": {
     "duration": 0.02104,
     "end_time": "2024-12-28T06:06:27.228675",
     "exception": false,
     "start_time": "2024-12-28T06:06:27.207635",
     "status": "completed"
    },
    "tags": []
   },
   "source": [
    "# **Modeling**"
   ]
  },
  {
   "cell_type": "code",
   "execution_count": 33,
   "id": "1e0cb5ce",
   "metadata": {
    "execution": {
     "iopub.execute_input": "2024-12-28T06:06:27.272617Z",
     "iopub.status.busy": "2024-12-28T06:06:27.272211Z",
     "iopub.status.idle": "2024-12-28T06:06:27.864515Z",
     "shell.execute_reply": "2024-12-28T06:06:27.863088Z"
    },
    "papermill": {
     "duration": 0.617677,
     "end_time": "2024-12-28T06:06:27.867444",
     "exception": false,
     "start_time": "2024-12-28T06:06:27.249767",
     "status": "completed"
    },
    "tags": []
   },
   "outputs": [],
   "source": [
    "#Import packages for data modeling\n",
    "\n",
    "from sklearn.model_selection import GridSearchCV\n",
    "\n",
    "from sklearn.metrics import roc_auc_score, roc_curve, auc\n",
    "from sklearn.metrics import accuracy_score, precision_score, recall_score, f1_score, confusion_matrix, ConfusionMatrixDisplay, RocCurveDisplay, PrecisionRecallDisplay \n",
    "from sklearn.metrics import silhouette_score #K-means\n",
    "import sklearn.metrics as metrics\n",
    "\n",
    "from sklearn.linear_model import LogisticRegression\n",
    "\n",
    "from sklearn.tree import DecisionTreeClassifier\n",
    "from sklearn.tree import plot_tree\n",
    "\n",
    "from sklearn.cluster import KMeans\n",
    "\n",
    "from sklearn.preprocessing import StandardScaler\n",
    "\n",
    "from sklearn import naive_bayes\n",
    "from sklearn import model_selection\n",
    "from sklearn import metrics\n",
    "\n",
    "from sklearn.ensemble import RandomForestClassifier\n",
    "\n",
    "from xgboost import XGBClassifier\n",
    "from xgboost import plot_importance\n",
    "\n",
    "import pickle"
   ]
  },
  {
   "cell_type": "markdown",
   "id": "2e3f6a73",
   "metadata": {
    "papermill": {
     "duration": 0.02168,
     "end_time": "2024-12-28T06:06:27.910479",
     "exception": false,
     "start_time": "2024-12-28T06:06:27.888799",
     "status": "completed"
    },
    "tags": []
   },
   "source": [
    "# 1. Logistic Regression"
   ]
  },
  {
   "cell_type": "code",
   "execution_count": 34,
   "id": "67e6f0ce",
   "metadata": {
    "execution": {
     "iopub.execute_input": "2024-12-28T06:06:27.955809Z",
     "iopub.status.busy": "2024-12-28T06:06:27.955434Z",
     "iopub.status.idle": "2024-12-28T06:06:27.960307Z",
     "shell.execute_reply": "2024-12-28T06:06:27.959158Z"
    },
    "papermill": {
     "duration": 0.030332,
     "end_time": "2024-12-28T06:06:27.962550",
     "exception": false,
     "start_time": "2024-12-28T06:06:27.932218",
     "status": "completed"
    },
    "tags": []
   },
   "outputs": [],
   "source": [
    "#instantiate the Logistic Regression\n",
    "lr = LogisticRegression()"
   ]
  },
  {
   "cell_type": "code",
   "execution_count": 35,
   "id": "e91dd781",
   "metadata": {
    "execution": {
     "iopub.execute_input": "2024-12-28T06:06:28.009115Z",
     "iopub.status.busy": "2024-12-28T06:06:28.008680Z",
     "iopub.status.idle": "2024-12-28T06:06:28.057023Z",
     "shell.execute_reply": "2024-12-28T06:06:28.055744Z"
    },
    "papermill": {
     "duration": 0.075702,
     "end_time": "2024-12-28T06:06:28.060415",
     "exception": false,
     "start_time": "2024-12-28T06:06:27.984713",
     "status": "completed"
    },
    "tags": []
   },
   "outputs": [],
   "source": [
    "clf_lr = lr.fit(X_train, y_train)"
   ]
  },
  {
   "cell_type": "code",
   "execution_count": 36,
   "id": "ceeeedd2",
   "metadata": {
    "execution": {
     "iopub.execute_input": "2024-12-28T06:06:28.145283Z",
     "iopub.status.busy": "2024-12-28T06:06:28.144687Z",
     "iopub.status.idle": "2024-12-28T06:06:28.159795Z",
     "shell.execute_reply": "2024-12-28T06:06:28.158531Z"
    },
    "papermill": {
     "duration": 0.079348,
     "end_time": "2024-12-28T06:06:28.180565",
     "exception": false,
     "start_time": "2024-12-28T06:06:28.101217",
     "status": "completed"
    },
    "tags": []
   },
   "outputs": [
    {
     "data": {
      "text/plain": [
       "array([[-0.39351044, -0.59941643, -0.33662052,  0.40249863,  0.00673201,\n",
       "         0.04745735,  0.36183807,  0.243626  , -0.60531892,  0.94207441,\n",
       "        -0.94192926, -0.22951973,  0.08849099, -0.42042104,  0.        ,\n",
       "        -0.29248173, -0.14421555,  0.11226347, -0.01751017,  1.79980382,\n",
       "        -0.13377683,  0.0639514 ,  0.02416296, -1.06511993,  0.57998   ,\n",
       "         0.15588135, -0.92959552,  0.36625505,  0.04199662, -0.01675354,\n",
       "         0.16960202, -0.27202915,  0.58469377,  0.9047114 ,  0.08603159,\n",
       "        -0.58395227, -0.2631645 , -0.60899416,  0.15520333,  0.10148219,\n",
       "        -0.25654037]])"
      ]
     },
     "execution_count": 36,
     "metadata": {},
     "output_type": "execute_result"
    }
   ],
   "source": [
    "clf_lr.coef_"
   ]
  },
  {
   "cell_type": "code",
   "execution_count": 37,
   "id": "cd896c36",
   "metadata": {
    "execution": {
     "iopub.execute_input": "2024-12-28T06:06:28.279251Z",
     "iopub.status.busy": "2024-12-28T06:06:28.278848Z",
     "iopub.status.idle": "2024-12-28T06:06:28.286252Z",
     "shell.execute_reply": "2024-12-28T06:06:28.285110Z"
    },
    "papermill": {
     "duration": 0.086397,
     "end_time": "2024-12-28T06:06:28.288468",
     "exception": false,
     "start_time": "2024-12-28T06:06:28.202071",
     "status": "completed"
    },
    "tags": []
   },
   "outputs": [
    {
     "data": {
      "text/plain": [
       "array([0.86079678])"
      ]
     },
     "execution_count": 37,
     "metadata": {},
     "output_type": "execute_result"
    }
   ],
   "source": [
    "clf_lr.intercept_"
   ]
  },
  {
   "cell_type": "code",
   "execution_count": 38,
   "id": "19f0193c",
   "metadata": {
    "execution": {
     "iopub.execute_input": "2024-12-28T06:06:28.333912Z",
     "iopub.status.busy": "2024-12-28T06:06:28.333515Z",
     "iopub.status.idle": "2024-12-28T06:06:28.342194Z",
     "shell.execute_reply": "2024-12-28T06:06:28.340185Z"
    },
    "papermill": {
     "duration": 0.035033,
     "end_time": "2024-12-28T06:06:28.345564",
     "exception": false,
     "start_time": "2024-12-28T06:06:28.310531",
     "status": "completed"
    },
    "tags": []
   },
   "outputs": [],
   "source": [
    "y_pred_lr = clf_lr.predict(X_test)"
   ]
  },
  {
   "cell_type": "code",
   "execution_count": 39,
   "id": "ac23256e",
   "metadata": {
    "execution": {
     "iopub.execute_input": "2024-12-28T06:06:28.432013Z",
     "iopub.status.busy": "2024-12-28T06:06:28.430474Z",
     "iopub.status.idle": "2024-12-28T06:06:28.438157Z",
     "shell.execute_reply": "2024-12-28T06:06:28.436417Z"
    },
    "papermill": {
     "duration": 0.055152,
     "end_time": "2024-12-28T06:06:28.441494",
     "exception": false,
     "start_time": "2024-12-28T06:06:28.386342",
     "status": "completed"
    },
    "tags": []
   },
   "outputs": [],
   "source": [
    "lr_final_data = {'PassengerId': df_test.PassengerId, 'Survived': y_pred_lr}"
   ]
  },
  {
   "cell_type": "code",
   "execution_count": 40,
   "id": "abcfaa50",
   "metadata": {
    "execution": {
     "iopub.execute_input": "2024-12-28T06:06:28.497522Z",
     "iopub.status.busy": "2024-12-28T06:06:28.497146Z",
     "iopub.status.idle": "2024-12-28T06:06:28.511316Z",
     "shell.execute_reply": "2024-12-28T06:06:28.510142Z"
    },
    "papermill": {
     "duration": 0.04074,
     "end_time": "2024-12-28T06:06:28.514310",
     "exception": false,
     "start_time": "2024-12-28T06:06:28.473570",
     "status": "completed"
    },
    "tags": []
   },
   "outputs": [
    {
     "data": {
      "text/html": [
       "<div>\n",
       "<style scoped>\n",
       "    .dataframe tbody tr th:only-of-type {\n",
       "        vertical-align: middle;\n",
       "    }\n",
       "\n",
       "    .dataframe tbody tr th {\n",
       "        vertical-align: top;\n",
       "    }\n",
       "\n",
       "    .dataframe thead th {\n",
       "        text-align: right;\n",
       "    }\n",
       "</style>\n",
       "<table border=\"1\" class=\"dataframe\">\n",
       "  <thead>\n",
       "    <tr style=\"text-align: right;\">\n",
       "      <th></th>\n",
       "      <th>PassengerId</th>\n",
       "      <th>Survived</th>\n",
       "    </tr>\n",
       "  </thead>\n",
       "  <tbody>\n",
       "    <tr>\n",
       "      <th>0</th>\n",
       "      <td>892</td>\n",
       "      <td>0.0</td>\n",
       "    </tr>\n",
       "    <tr>\n",
       "      <th>1</th>\n",
       "      <td>893</td>\n",
       "      <td>0.0</td>\n",
       "    </tr>\n",
       "    <tr>\n",
       "      <th>2</th>\n",
       "      <td>894</td>\n",
       "      <td>0.0</td>\n",
       "    </tr>\n",
       "    <tr>\n",
       "      <th>3</th>\n",
       "      <td>895</td>\n",
       "      <td>0.0</td>\n",
       "    </tr>\n",
       "    <tr>\n",
       "      <th>4</th>\n",
       "      <td>896</td>\n",
       "      <td>1.0</td>\n",
       "    </tr>\n",
       "    <tr>\n",
       "      <th>...</th>\n",
       "      <td>...</td>\n",
       "      <td>...</td>\n",
       "    </tr>\n",
       "    <tr>\n",
       "      <th>413</th>\n",
       "      <td>1305</td>\n",
       "      <td>0.0</td>\n",
       "    </tr>\n",
       "    <tr>\n",
       "      <th>414</th>\n",
       "      <td>1306</td>\n",
       "      <td>1.0</td>\n",
       "    </tr>\n",
       "    <tr>\n",
       "      <th>415</th>\n",
       "      <td>1307</td>\n",
       "      <td>0.0</td>\n",
       "    </tr>\n",
       "    <tr>\n",
       "      <th>416</th>\n",
       "      <td>1308</td>\n",
       "      <td>0.0</td>\n",
       "    </tr>\n",
       "    <tr>\n",
       "      <th>417</th>\n",
       "      <td>1309</td>\n",
       "      <td>1.0</td>\n",
       "    </tr>\n",
       "  </tbody>\n",
       "</table>\n",
       "<p>418 rows × 2 columns</p>\n",
       "</div>"
      ],
      "text/plain": [
       "     PassengerId  Survived\n",
       "0            892       0.0\n",
       "1            893       0.0\n",
       "2            894       0.0\n",
       "3            895       0.0\n",
       "4            896       1.0\n",
       "..           ...       ...\n",
       "413         1305       0.0\n",
       "414         1306       1.0\n",
       "415         1307       0.0\n",
       "416         1308       0.0\n",
       "417         1309       1.0\n",
       "\n",
       "[418 rows x 2 columns]"
      ]
     },
     "execution_count": 40,
     "metadata": {},
     "output_type": "execute_result"
    }
   ],
   "source": [
    "lr_submit = pd.DataFrame(lr_final_data)\n",
    "lr_submit"
   ]
  },
  {
   "cell_type": "code",
   "execution_count": 41,
   "id": "f96ac0ee",
   "metadata": {
    "execution": {
     "iopub.execute_input": "2024-12-28T06:06:28.560181Z",
     "iopub.status.busy": "2024-12-28T06:06:28.559762Z",
     "iopub.status.idle": "2024-12-28T06:06:28.569145Z",
     "shell.execute_reply": "2024-12-28T06:06:28.568020Z"
    },
    "papermill": {
     "duration": 0.034972,
     "end_time": "2024-12-28T06:06:28.571614",
     "exception": false,
     "start_time": "2024-12-28T06:06:28.536642",
     "status": "completed"
    },
    "tags": []
   },
   "outputs": [],
   "source": [
    "lr_submit.to_csv('Logistic_Regression_output.csv', index=False)"
   ]
  },
  {
   "cell_type": "markdown",
   "id": "26691e9f",
   "metadata": {
    "papermill": {
     "duration": 0.021484,
     "end_time": "2024-12-28T06:06:28.615719",
     "exception": false,
     "start_time": "2024-12-28T06:06:28.594235",
     "status": "completed"
    },
    "tags": []
   },
   "source": [
    "# 2. Decision Tree"
   ]
  },
  {
   "cell_type": "code",
   "execution_count": 42,
   "id": "e05a052d",
   "metadata": {
    "execution": {
     "iopub.execute_input": "2024-12-28T06:06:28.662085Z",
     "iopub.status.busy": "2024-12-28T06:06:28.661676Z",
     "iopub.status.idle": "2024-12-28T06:06:28.667004Z",
     "shell.execute_reply": "2024-12-28T06:06:28.665901Z"
    },
    "papermill": {
     "duration": 0.030788,
     "end_time": "2024-12-28T06:06:28.669366",
     "exception": false,
     "start_time": "2024-12-28T06:06:28.638578",
     "status": "completed"
    },
    "tags": []
   },
   "outputs": [],
   "source": [
    "dt = DecisionTreeClassifier(random_state=1)"
   ]
  },
  {
   "cell_type": "code",
   "execution_count": 43,
   "id": "91515a09",
   "metadata": {
    "execution": {
     "iopub.execute_input": "2024-12-28T06:06:28.715653Z",
     "iopub.status.busy": "2024-12-28T06:06:28.715243Z",
     "iopub.status.idle": "2024-12-28T06:06:28.730337Z",
     "shell.execute_reply": "2024-12-28T06:06:28.729179Z"
    },
    "papermill": {
     "duration": 0.041928,
     "end_time": "2024-12-28T06:06:28.732824",
     "exception": false,
     "start_time": "2024-12-28T06:06:28.690896",
     "status": "completed"
    },
    "tags": []
   },
   "outputs": [],
   "source": [
    "clf_dt = dt.fit(X_train, y_train)"
   ]
  },
  {
   "cell_type": "code",
   "execution_count": 44,
   "id": "773db330",
   "metadata": {
    "execution": {
     "iopub.execute_input": "2024-12-28T06:06:28.778150Z",
     "iopub.status.busy": "2024-12-28T06:06:28.777586Z",
     "iopub.status.idle": "2024-12-28T06:06:28.787070Z",
     "shell.execute_reply": "2024-12-28T06:06:28.785808Z"
    },
    "papermill": {
     "duration": 0.035214,
     "end_time": "2024-12-28T06:06:28.789748",
     "exception": false,
     "start_time": "2024-12-28T06:06:28.754534",
     "status": "completed"
    },
    "tags": []
   },
   "outputs": [],
   "source": [
    "y_pred_dt = clf_dt.predict(X_test)"
   ]
  },
  {
   "cell_type": "code",
   "execution_count": 45,
   "id": "02b7277a",
   "metadata": {
    "execution": {
     "iopub.execute_input": "2024-12-28T06:06:28.836024Z",
     "iopub.status.busy": "2024-12-28T06:06:28.835532Z",
     "iopub.status.idle": "2024-12-28T06:06:28.840718Z",
     "shell.execute_reply": "2024-12-28T06:06:28.839570Z"
    },
    "papermill": {
     "duration": 0.030334,
     "end_time": "2024-12-28T06:06:28.842866",
     "exception": false,
     "start_time": "2024-12-28T06:06:28.812532",
     "status": "completed"
    },
    "tags": []
   },
   "outputs": [],
   "source": [
    "dt_final_data = {'PassengerId': df_test.PassengerId, 'Survived': y_pred_dt}"
   ]
  },
  {
   "cell_type": "code",
   "execution_count": 46,
   "id": "d192f544",
   "metadata": {
    "execution": {
     "iopub.execute_input": "2024-12-28T06:06:28.889927Z",
     "iopub.status.busy": "2024-12-28T06:06:28.889564Z",
     "iopub.status.idle": "2024-12-28T06:06:28.902128Z",
     "shell.execute_reply": "2024-12-28T06:06:28.901006Z"
    },
    "papermill": {
     "duration": 0.039348,
     "end_time": "2024-12-28T06:06:28.904369",
     "exception": false,
     "start_time": "2024-12-28T06:06:28.865021",
     "status": "completed"
    },
    "tags": []
   },
   "outputs": [
    {
     "data": {
      "text/html": [
       "<div>\n",
       "<style scoped>\n",
       "    .dataframe tbody tr th:only-of-type {\n",
       "        vertical-align: middle;\n",
       "    }\n",
       "\n",
       "    .dataframe tbody tr th {\n",
       "        vertical-align: top;\n",
       "    }\n",
       "\n",
       "    .dataframe thead th {\n",
       "        text-align: right;\n",
       "    }\n",
       "</style>\n",
       "<table border=\"1\" class=\"dataframe\">\n",
       "  <thead>\n",
       "    <tr style=\"text-align: right;\">\n",
       "      <th></th>\n",
       "      <th>PassengerId</th>\n",
       "      <th>Survived</th>\n",
       "    </tr>\n",
       "  </thead>\n",
       "  <tbody>\n",
       "    <tr>\n",
       "      <th>0</th>\n",
       "      <td>892</td>\n",
       "      <td>0.0</td>\n",
       "    </tr>\n",
       "    <tr>\n",
       "      <th>1</th>\n",
       "      <td>893</td>\n",
       "      <td>0.0</td>\n",
       "    </tr>\n",
       "    <tr>\n",
       "      <th>2</th>\n",
       "      <td>894</td>\n",
       "      <td>0.0</td>\n",
       "    </tr>\n",
       "    <tr>\n",
       "      <th>3</th>\n",
       "      <td>895</td>\n",
       "      <td>1.0</td>\n",
       "    </tr>\n",
       "    <tr>\n",
       "      <th>4</th>\n",
       "      <td>896</td>\n",
       "      <td>1.0</td>\n",
       "    </tr>\n",
       "    <tr>\n",
       "      <th>...</th>\n",
       "      <td>...</td>\n",
       "      <td>...</td>\n",
       "    </tr>\n",
       "    <tr>\n",
       "      <th>413</th>\n",
       "      <td>1305</td>\n",
       "      <td>0.0</td>\n",
       "    </tr>\n",
       "    <tr>\n",
       "      <th>414</th>\n",
       "      <td>1306</td>\n",
       "      <td>1.0</td>\n",
       "    </tr>\n",
       "    <tr>\n",
       "      <th>415</th>\n",
       "      <td>1307</td>\n",
       "      <td>0.0</td>\n",
       "    </tr>\n",
       "    <tr>\n",
       "      <th>416</th>\n",
       "      <td>1308</td>\n",
       "      <td>0.0</td>\n",
       "    </tr>\n",
       "    <tr>\n",
       "      <th>417</th>\n",
       "      <td>1309</td>\n",
       "      <td>1.0</td>\n",
       "    </tr>\n",
       "  </tbody>\n",
       "</table>\n",
       "<p>418 rows × 2 columns</p>\n",
       "</div>"
      ],
      "text/plain": [
       "     PassengerId  Survived\n",
       "0            892       0.0\n",
       "1            893       0.0\n",
       "2            894       0.0\n",
       "3            895       1.0\n",
       "4            896       1.0\n",
       "..           ...       ...\n",
       "413         1305       0.0\n",
       "414         1306       1.0\n",
       "415         1307       0.0\n",
       "416         1308       0.0\n",
       "417         1309       1.0\n",
       "\n",
       "[418 rows x 2 columns]"
      ]
     },
     "execution_count": 46,
     "metadata": {},
     "output_type": "execute_result"
    }
   ],
   "source": [
    "dt_submit = pd.DataFrame(dt_final_data)\n",
    "dt_submit"
   ]
  },
  {
   "cell_type": "code",
   "execution_count": 47,
   "id": "8c19d595",
   "metadata": {
    "execution": {
     "iopub.execute_input": "2024-12-28T06:06:28.950638Z",
     "iopub.status.busy": "2024-12-28T06:06:28.950248Z",
     "iopub.status.idle": "2024-12-28T06:06:32.769974Z",
     "shell.execute_reply": "2024-12-28T06:06:32.768792Z"
    },
    "papermill": {
     "duration": 3.84759,
     "end_time": "2024-12-28T06:06:32.774166",
     "exception": false,
     "start_time": "2024-12-28T06:06:28.926576",
     "status": "completed"
    },
    "tags": []
   },
   "outputs": [
    {
     "data": {
      "image/png": "[encoded data removed]",
      "text/plain": [
       "<Figure size 2000x1200 with 1 Axes>"
      ]
     },
     "metadata": {},
     "output_type": "display_data"
    }
   ],
   "source": [
    "plt.figure(figsize=(20,12))\n",
    "plot_tree(dt, max_depth = 6, fontsize=7, feature_names=all_dummies_scaled.columns);"
   ]
  },
  {
   "cell_type": "code",
   "execution_count": 48,
   "id": "244f7f2c",
   "metadata": {
    "execution": {
     "iopub.execute_input": "2024-12-28T06:06:32.827338Z",
     "iopub.status.busy": "2024-12-28T06:06:32.826908Z",
     "iopub.status.idle": "2024-12-28T06:06:32.834764Z",
     "shell.execute_reply": "2024-12-28T06:06:32.833720Z"
    },
    "papermill": {
     "duration": 0.037207,
     "end_time": "2024-12-28T06:06:32.837468",
     "exception": false,
     "start_time": "2024-12-28T06:06:32.800261",
     "status": "completed"
    },
    "tags": []
   },
   "outputs": [],
   "source": [
    "dt_submit.to_csv('Decision_Tree_output.csv', index=False)"
   ]
  },
  {
   "cell_type": "markdown",
   "id": "aff0b64d",
   "metadata": {
    "papermill": {
     "duration": 0.027696,
     "end_time": "2024-12-28T06:06:32.890761",
     "exception": false,
     "start_time": "2024-12-28T06:06:32.863065",
     "status": "completed"
    },
    "tags": []
   },
   "source": [
    "# 3. Naive Bayes"
   ]
  },
  {
   "cell_type": "code",
   "execution_count": 49,
   "id": "897bf98a",
   "metadata": {
    "execution": {
     "iopub.execute_input": "2024-12-28T06:06:32.945406Z",
     "iopub.status.busy": "2024-12-28T06:06:32.945015Z",
     "iopub.status.idle": "2024-12-28T06:06:32.950021Z",
     "shell.execute_reply": "2024-12-28T06:06:32.948924Z"
    },
    "papermill": {
     "duration": 0.034778,
     "end_time": "2024-12-28T06:06:32.952197",
     "exception": false,
     "start_time": "2024-12-28T06:06:32.917419",
     "status": "completed"
    },
    "tags": []
   },
   "outputs": [],
   "source": [
    "nb = naive_bayes.GaussianNB()"
   ]
  },
  {
   "cell_type": "code",
   "execution_count": 50,
   "id": "c8a85a7d",
   "metadata": {
    "execution": {
     "iopub.execute_input": "2024-12-28T06:06:33.004333Z",
     "iopub.status.busy": "2024-12-28T06:06:33.003509Z",
     "iopub.status.idle": "2024-12-28T06:06:33.013613Z",
     "shell.execute_reply": "2024-12-28T06:06:33.012423Z"
    },
    "papermill": {
     "duration": 0.039894,
     "end_time": "2024-12-28T06:06:33.016453",
     "exception": false,
     "start_time": "2024-12-28T06:06:32.976559",
     "status": "completed"
    },
    "tags": []
   },
   "outputs": [],
   "source": [
    "model_nb = nb.fit(X_train, y_train)"
   ]
  },
  {
   "cell_type": "code",
   "execution_count": 51,
   "id": "563c7b72",
   "metadata": {
    "execution": {
     "iopub.execute_input": "2024-12-28T06:06:33.070167Z",
     "iopub.status.busy": "2024-12-28T06:06:33.069748Z",
     "iopub.status.idle": "2024-12-28T06:06:33.077911Z",
     "shell.execute_reply": "2024-12-28T06:06:33.077007Z"
    },
    "papermill": {
     "duration": 0.038127,
     "end_time": "2024-12-28T06:06:33.080376",
     "exception": false,
     "start_time": "2024-12-28T06:06:33.042249",
     "status": "completed"
    },
    "tags": []
   },
   "outputs": [],
   "source": [
    "y_pred_nb = model_nb.predict(X_test)"
   ]
  },
  {
   "cell_type": "code",
   "execution_count": 52,
   "id": "f9e6cbc7",
   "metadata": {
    "execution": {
     "iopub.execute_input": "2024-12-28T06:06:33.133445Z",
     "iopub.status.busy": "2024-12-28T06:06:33.133016Z",
     "iopub.status.idle": "2024-12-28T06:06:33.138499Z",
     "shell.execute_reply": "2024-12-28T06:06:33.137455Z"
    },
    "papermill": {
     "duration": 0.034601,
     "end_time": "2024-12-28T06:06:33.140825",
     "exception": false,
     "start_time": "2024-12-28T06:06:33.106224",
     "status": "completed"
    },
    "tags": []
   },
   "outputs": [],
   "source": [
    "nb_final_data = {'PassengerId': df_test.PassengerId, 'Survived': y_pred_nb}"
   ]
  },
  {
   "cell_type": "code",
   "execution_count": 53,
   "id": "39ed49bf",
   "metadata": {
    "execution": {
     "iopub.execute_input": "2024-12-28T06:06:33.195465Z",
     "iopub.status.busy": "2024-12-28T06:06:33.193980Z",
     "iopub.status.idle": "2024-12-28T06:06:33.208211Z",
     "shell.execute_reply": "2024-12-28T06:06:33.206825Z"
    },
    "papermill": {
     "duration": 0.044521,
     "end_time": "2024-12-28T06:06:33.210597",
     "exception": false,
     "start_time": "2024-12-28T06:06:33.166076",
     "status": "completed"
    },
    "tags": []
   },
   "outputs": [
    {
     "data": {
      "text/html": [
       "<div>\n",
       "<style scoped>\n",
       "    .dataframe tbody tr th:only-of-type {\n",
       "        vertical-align: middle;\n",
       "    }\n",
       "\n",
       "    .dataframe tbody tr th {\n",
       "        vertical-align: top;\n",
       "    }\n",
       "\n",
       "    .dataframe thead th {\n",
       "        text-align: right;\n",
       "    }\n",
       "</style>\n",
       "<table border=\"1\" class=\"dataframe\">\n",
       "  <thead>\n",
       "    <tr style=\"text-align: right;\">\n",
       "      <th></th>\n",
       "      <th>PassengerId</th>\n",
       "      <th>Survived</th>\n",
       "    </tr>\n",
       "  </thead>\n",
       "  <tbody>\n",
       "    <tr>\n",
       "      <th>0</th>\n",
       "      <td>892</td>\n",
       "      <td>0.0</td>\n",
       "    </tr>\n",
       "    <tr>\n",
       "      <th>1</th>\n",
       "      <td>893</td>\n",
       "      <td>0.0</td>\n",
       "    </tr>\n",
       "    <tr>\n",
       "      <th>2</th>\n",
       "      <td>894</td>\n",
       "      <td>0.0</td>\n",
       "    </tr>\n",
       "    <tr>\n",
       "      <th>3</th>\n",
       "      <td>895</td>\n",
       "      <td>0.0</td>\n",
       "    </tr>\n",
       "    <tr>\n",
       "      <th>4</th>\n",
       "      <td>896</td>\n",
       "      <td>0.0</td>\n",
       "    </tr>\n",
       "    <tr>\n",
       "      <th>...</th>\n",
       "      <td>...</td>\n",
       "      <td>...</td>\n",
       "    </tr>\n",
       "    <tr>\n",
       "      <th>413</th>\n",
       "      <td>1305</td>\n",
       "      <td>0.0</td>\n",
       "    </tr>\n",
       "    <tr>\n",
       "      <th>414</th>\n",
       "      <td>1306</td>\n",
       "      <td>1.0</td>\n",
       "    </tr>\n",
       "    <tr>\n",
       "      <th>415</th>\n",
       "      <td>1307</td>\n",
       "      <td>0.0</td>\n",
       "    </tr>\n",
       "    <tr>\n",
       "      <th>416</th>\n",
       "      <td>1308</td>\n",
       "      <td>0.0</td>\n",
       "    </tr>\n",
       "    <tr>\n",
       "      <th>417</th>\n",
       "      <td>1309</td>\n",
       "      <td>0.0</td>\n",
       "    </tr>\n",
       "  </tbody>\n",
       "</table>\n",
       "<p>418 rows × 2 columns</p>\n",
       "</div>"
      ],
      "text/plain": [
       "     PassengerId  Survived\n",
       "0            892       0.0\n",
       "1            893       0.0\n",
       "2            894       0.0\n",
       "3            895       0.0\n",
       "4            896       0.0\n",
       "..           ...       ...\n",
       "413         1305       0.0\n",
       "414         1306       1.0\n",
       "415         1307       0.0\n",
       "416         1308       0.0\n",
       "417         1309       0.0\n",
       "\n",
       "[418 rows x 2 columns]"
      ]
     },
     "execution_count": 53,
     "metadata": {},
     "output_type": "execute_result"
    }
   ],
   "source": [
    "nb_submit = pd.DataFrame(data=nb_final_data)\n",
    "nb_submit"
   ]
  },
  {
   "cell_type": "code",
   "execution_count": 54,
   "id": "6e6c0c5d",
   "metadata": {
    "execution": {
     "iopub.execute_input": "2024-12-28T06:06:33.264536Z",
     "iopub.status.busy": "2024-12-28T06:06:33.264145Z",
     "iopub.status.idle": "2024-12-28T06:06:33.272188Z",
     "shell.execute_reply": "2024-12-28T06:06:33.270744Z"
    },
    "papermill": {
     "duration": 0.037452,
     "end_time": "2024-12-28T06:06:33.274738",
     "exception": false,
     "start_time": "2024-12-28T06:06:33.237286",
     "status": "completed"
    },
    "tags": []
   },
   "outputs": [],
   "source": [
    "nb_submit.to_csv('Naive_Bayes_output.csv', index=False)"
   ]
  },
  {
   "cell_type": "markdown",
   "id": "05bffe53",
   "metadata": {
    "papermill": {
     "duration": 0.025354,
     "end_time": "2024-12-28T06:06:33.325548",
     "exception": false,
     "start_time": "2024-12-28T06:06:33.300194",
     "status": "completed"
    },
    "tags": []
   },
   "source": [
    "# 4. Random Forest"
   ]
  },
  {
   "cell_type": "code",
   "execution_count": 55,
   "id": "37eb6c84",
   "metadata": {
    "execution": {
     "iopub.execute_input": "2024-12-28T06:06:33.377917Z",
     "iopub.status.busy": "2024-12-28T06:06:33.377448Z",
     "iopub.status.idle": "2024-12-28T06:06:33.383845Z",
     "shell.execute_reply": "2024-12-28T06:06:33.382913Z"
    },
    "papermill": {
     "duration": 0.035374,
     "end_time": "2024-12-28T06:06:33.385960",
     "exception": false,
     "start_time": "2024-12-28T06:06:33.350586",
     "status": "completed"
    },
    "tags": []
   },
   "outputs": [],
   "source": [
    "#instantiate the Random Forest Classifier\n",
    "\n",
    "rf = RandomForestClassifier(random_state=1)\n",
    "\n",
    "#Create a dictionary of hyperparameters to tune\n",
    "\n",
    "param_grid = {'n_estimators': [100,400,800],\n",
    "            'max_depth': [5,25,60,100,None],\n",
    "            'max_features': ['sqrt', 10],\n",
    "            'min_samples_split': [2,5,10],\n",
    "            'min_samples_leaf': [1,2,6,10],\n",
    "            'bootstrap': [True,False]}"
   ]
  },
  {
   "cell_type": "code",
   "execution_count": 56,
   "id": "68b3b2d1",
   "metadata": {
    "execution": {
     "iopub.execute_input": "2024-12-28T06:06:33.438465Z",
     "iopub.status.busy": "2024-12-28T06:06:33.438062Z",
     "iopub.status.idle": "2024-12-28T06:06:33.443280Z",
     "shell.execute_reply": "2024-12-28T06:06:33.442203Z"
    },
    "papermill": {
     "duration": 0.034119,
     "end_time": "2024-12-28T06:06:33.445339",
     "exception": false,
     "start_time": "2024-12-28T06:06:33.411220",
     "status": "completed"
    },
    "tags": []
   },
   "outputs": [],
   "source": [
    "# Save the grid search function for Random Forest\n",
    "clf_rf = GridSearchCV(rf, param_grid, cv=3, verbose=1, n_jobs=-1)"
   ]
  },
  {
   "cell_type": "code",
   "execution_count": 57,
   "id": "39968800",
   "metadata": {
    "execution": {
     "iopub.execute_input": "2024-12-28T06:06:33.497848Z",
     "iopub.status.busy": "2024-12-28T06:06:33.497456Z",
     "iopub.status.idle": "2024-12-28T06:18:05.286409Z",
     "shell.execute_reply": "2024-12-28T06:18:05.284984Z"
    },
    "papermill": {
     "duration": 691.81847,
     "end_time": "2024-12-28T06:18:05.289267",
     "exception": false,
     "start_time": "2024-12-28T06:06:33.470797",
     "status": "completed"
    },
    "tags": []
   },
   "outputs": [
    {
     "name": "stdout",
     "output_type": "stream",
     "text": [
      "Fitting 3 folds for each of 720 candidates, totalling 2160 fits\n"
     ]
    }
   ],
   "source": [
    "# Fit the parameter tuning on your training data to get optimal parameters\n",
    "fit_clf_rf = clf_rf.fit(X_train, y_train)"
   ]
  },
  {
   "cell_type": "code",
   "execution_count": 58,
   "id": "486ae6ec",
   "metadata": {
    "execution": {
     "iopub.execute_input": "2024-12-28T06:18:05.341472Z",
     "iopub.status.busy": "2024-12-28T06:18:05.341029Z",
     "iopub.status.idle": "2024-12-28T06:18:05.349159Z",
     "shell.execute_reply": "2024-12-28T06:18:05.348038Z"
    },
    "papermill": {
     "duration": 0.036608,
     "end_time": "2024-12-28T06:18:05.351334",
     "exception": false,
     "start_time": "2024-12-28T06:18:05.314726",
     "status": "completed"
    },
    "tags": []
   },
   "outputs": [
    {
     "data": {
      "text/plain": [
       "{'bootstrap': True,\n",
       " 'max_depth': 25,\n",
       " 'max_features': 10,\n",
       " 'min_samples_leaf': 2,\n",
       " 'min_samples_split': 5,\n",
       " 'n_estimators': 800}"
      ]
     },
     "execution_count": 58,
     "metadata": {},
     "output_type": "execute_result"
    }
   ],
   "source": [
    "fit_clf_rf.best_params_"
   ]
  },
  {
   "cell_type": "code",
   "execution_count": 59,
   "id": "dd2064f4",
   "metadata": {
    "execution": {
     "iopub.execute_input": "2024-12-28T06:18:05.404051Z",
     "iopub.status.busy": "2024-12-28T06:18:05.402797Z",
     "iopub.status.idle": "2024-12-28T06:18:05.413822Z",
     "shell.execute_reply": "2024-12-28T06:18:05.412793Z"
    },
    "papermill": {
     "duration": 0.039873,
     "end_time": "2024-12-28T06:18:05.416178",
     "exception": false,
     "start_time": "2024-12-28T06:18:05.376305",
     "status": "completed"
    },
    "tags": []
   },
   "outputs": [
    {
     "data": {
      "text/html": [
       "<style>#sk-container-id-1 {color: black;background-color: white;}#sk-container-id-1 pre{padding: 0;}#sk-container-id-1 div.sk-toggleable {background-color: white;}#sk-container-id-1 label.sk-toggleable__label {cursor: pointer;display: block;width: 100%;margin-bottom: 0;padding: 0.3em;box-sizing: border-box;text-align: center;}#sk-container-id-1 label.sk-toggleable__label-arrow:before {content: \"▸\";float: left;margin-right: 0.25em;color: #696969;}#sk-container-id-1 label.sk-toggleable__label-arrow:hover:before {color: black;}#sk-container-id-1 div.sk-estimator:hover label.sk-toggleable__label-arrow:before {color: black;}#sk-container-id-1 div.sk-toggleable__content {max-height: 0;max-width: 0;overflow: hidden;text-align: left;background-color: #f0f8ff;}#sk-container-id-1 div.sk-toggleable__content pre {margin: 0.2em;color: black;border-radius: 0.25em;background-color: #f0f8ff;}#sk-container-id-1 input.sk-toggleable__control:checked~div.sk-toggleable__content {max-height: 200px;max-width: 100%;overflow: auto;}#sk-container-id-1 input.sk-toggleable__control:checked~label.sk-toggleable__label-arrow:before {content: \"▾\";}#sk-container-id-1 div.sk-estimator input.sk-toggleable__control:checked~label.sk-toggleable__label {background-color: #d4ebff;}#sk-container-id-1 div.sk-label input.sk-toggleable__control:checked~label.sk-toggleable__label {background-color: #d4ebff;}#sk-container-id-1 input.sk-hidden--visually {border: 0;clip: rect(1px 1px 1px 1px);clip: rect(1px, 1px, 1px, 1px);height: 1px;margin: -1px;overflow: hidden;padding: 0;position: absolute;width: 1px;}#sk-container-id-1 div.sk-estimator {font-family: monospace;background-color: #f0f8ff;border: 1px dotted black;border-radius: 0.25em;box-sizing: border-box;margin-bottom: 0.5em;}#sk-container-id-1 div.sk-estimator:hover {background-color: #d4ebff;}#sk-container-id-1 div.sk-parallel-item::after {content: \"\";width: 100%;border-bottom: 1px solid gray;flex-grow: 1;}#sk-container-id-1 div.sk-label:hover label.sk-toggleable__label {background-color: #d4ebff;}#sk-container-id-1 div.sk-serial::before {content: \"\";position: absolute;border-left: 1px solid gray;box-sizing: border-box;top: 0;bottom: 0;left: 50%;z-index: 0;}#sk-container-id-1 div.sk-serial {display: flex;flex-direction: column;align-items: center;background-color: white;padding-right: 0.2em;padding-left: 0.2em;position: relative;}#sk-container-id-1 div.sk-item {position: relative;z-index: 1;}#sk-container-id-1 div.sk-parallel {display: flex;align-items: stretch;justify-content: center;background-color: white;position: relative;}#sk-container-id-1 div.sk-item::before, #sk-container-id-1 div.sk-parallel-item::before {content: \"\";position: absolute;border-left: 1px solid gray;box-sizing: border-box;top: 0;bottom: 0;left: 50%;z-index: -1;}#sk-container-id-1 div.sk-parallel-item {display: flex;flex-direction: column;z-index: 1;position: relative;background-color: white;}#sk-container-id-1 div.sk-parallel-item:first-child::after {align-self: flex-end;width: 50%;}#sk-container-id-1 div.sk-parallel-item:last-child::after {align-self: flex-start;width: 50%;}#sk-container-id-1 div.sk-parallel-item:only-child::after {width: 0;}#sk-container-id-1 div.sk-dashed-wrapped {border: 1px dashed gray;margin: 0 0.4em 0.5em 0.4em;box-sizing: border-box;padding-bottom: 0.4em;background-color: white;}#sk-container-id-1 div.sk-label label {font-family: monospace;font-weight: bold;display: inline-block;line-height: 1.2em;}#sk-container-id-1 div.sk-label-container {text-align: center;}#sk-container-id-1 div.sk-container {/* jupyter's `normalize.less` sets `[hidden] { display: none; }` but bootstrap.min.css set `[hidden] { display: none !important; }` so we also need the `!important` here to be able to override the default hidden behavior on the sphinx rendered scikit-learn.org. See: https://github.com/scikit-learn/scikit-learn/issues/21755 */display: inline-block !important;position: relative;}#sk-container-id-1 div.sk-text-repr-fallback {display: none;}</style><div id=\"sk-container-id-1\" class=\"sk-top-container\"><div class=\"sk-text-repr-fallback\"><pre>RandomForestClassifier(max_depth=25, max_features=10, min_samples_leaf=2,\n",
       "                       min_samples_split=5, n_estimators=800, random_state=1)</pre><b>In a Jupyter environment, please rerun this cell to show the HTML representation or trust the notebook. <br />On GitHub, the HTML representation is unable to render, please try loading this page with nbviewer.org.</b></div><div class=\"sk-container\" hidden><div class=\"sk-item\"><div class=\"sk-estimator sk-toggleable\"><input class=\"sk-toggleable__control sk-hidden--visually\" id=\"sk-estimator-id-1\" type=\"checkbox\" checked><label for=\"sk-estimator-id-1\" class=\"sk-toggleable__label sk-toggleable__label-arrow\">RandomForestClassifier</label><div class=\"sk-toggleable__content\"><pre>RandomForestClassifier(max_depth=25, max_features=10, min_samples_leaf=2,\n",
       "                       min_samples_split=5, n_estimators=800, random_state=1)</pre></div></div></div></div></div>"
      ],
      "text/plain": [
       "RandomForestClassifier(max_depth=25, max_features=10, min_samples_leaf=2,\n",
       "                       min_samples_split=5, n_estimators=800, random_state=1)"
      ]
     },
     "execution_count": 59,
     "metadata": {},
     "output_type": "execute_result"
    }
   ],
   "source": [
    "fit_clf_rf.best_estimator_"
   ]
  },
  {
   "cell_type": "code",
   "execution_count": 60,
   "id": "824936c1",
   "metadata": {
    "execution": {
     "iopub.execute_input": "2024-12-28T06:18:05.471319Z",
     "iopub.status.busy": "2024-12-28T06:18:05.469850Z",
     "iopub.status.idle": "2024-12-28T06:18:05.475190Z",
     "shell.execute_reply": "2024-12-28T06:18:05.474173Z"
    },
    "papermill": {
     "duration": 0.03479,
     "end_time": "2024-12-28T06:18:05.477337",
     "exception": false,
     "start_time": "2024-12-28T06:18:05.442547",
     "status": "completed"
    },
    "tags": []
   },
   "outputs": [],
   "source": [
    "best_rf = fit_clf_rf.best_estimator_"
   ]
  },
  {
   "cell_type": "code",
   "execution_count": 61,
   "id": "348549e3",
   "metadata": {
    "execution": {
     "iopub.execute_input": "2024-12-28T06:18:05.532028Z",
     "iopub.status.busy": "2024-12-28T06:18:05.530687Z",
     "iopub.status.idle": "2024-12-28T06:18:07.141188Z",
     "shell.execute_reply": "2024-12-28T06:18:07.139491Z"
    },
    "papermill": {
     "duration": 1.640471,
     "end_time": "2024-12-28T06:18:07.143634",
     "exception": false,
     "start_time": "2024-12-28T06:18:05.503163",
     "status": "completed"
    },
    "tags": []
   },
   "outputs": [],
   "source": [
    "model_rf = best_rf.fit(X_train, y_train)"
   ]
  },
  {
   "cell_type": "code",
   "execution_count": 62,
   "id": "0644eb80",
   "metadata": {
    "execution": {
     "iopub.execute_input": "2024-12-28T06:18:07.198116Z",
     "iopub.status.busy": "2024-12-28T06:18:07.197715Z",
     "iopub.status.idle": "2024-12-28T06:18:07.283852Z",
     "shell.execute_reply": "2024-12-28T06:18:07.282765Z"
    },
    "papermill": {
     "duration": 0.116579,
     "end_time": "2024-12-28T06:18:07.286335",
     "exception": false,
     "start_time": "2024-12-28T06:18:07.169756",
     "status": "completed"
    },
    "tags": []
   },
   "outputs": [],
   "source": [
    "#Predict the test set using the trained model\n",
    "y_pred_rf = model_rf.predict(X_test)"
   ]
  },
  {
   "cell_type": "code",
   "execution_count": 63,
   "id": "de661f74",
   "metadata": {
    "execution": {
     "iopub.execute_input": "2024-12-28T06:18:07.340754Z",
     "iopub.status.busy": "2024-12-28T06:18:07.340036Z",
     "iopub.status.idle": "2024-12-28T06:18:07.345502Z",
     "shell.execute_reply": "2024-12-28T06:18:07.344434Z"
    },
    "papermill": {
     "duration": 0.035014,
     "end_time": "2024-12-28T06:18:07.347720",
     "exception": false,
     "start_time": "2024-12-28T06:18:07.312706",
     "status": "completed"
    },
    "tags": []
   },
   "outputs": [],
   "source": [
    "rf_final_data = {'PassengerId': df_test.PassengerId, 'Survived': y_pred_rf}"
   ]
  },
  {
   "cell_type": "code",
   "execution_count": 64,
   "id": "5a1e43a6",
   "metadata": {
    "execution": {
     "iopub.execute_input": "2024-12-28T06:18:07.402407Z",
     "iopub.status.busy": "2024-12-28T06:18:07.401999Z",
     "iopub.status.idle": "2024-12-28T06:18:07.410301Z",
     "shell.execute_reply": "2024-12-28T06:18:07.409326Z"
    },
    "papermill": {
     "duration": 0.038011,
     "end_time": "2024-12-28T06:18:07.412456",
     "exception": false,
     "start_time": "2024-12-28T06:18:07.374445",
     "status": "completed"
    },
    "tags": []
   },
   "outputs": [],
   "source": [
    "rf_submit = pd.DataFrame(data=rf_final_data)\n",
    "rf_submit.to_csv('Random_Forest_Output.csv', index=False)"
   ]
  },
  {
   "cell_type": "markdown",
   "id": "4dc27a25",
   "metadata": {
    "papermill": {
     "duration": 0.025717,
     "end_time": "2024-12-28T06:18:07.464374",
     "exception": false,
     "start_time": "2024-12-28T06:18:07.438657",
     "status": "completed"
    },
    "tags": []
   },
   "source": [
    "# 5. XGBoost"
   ]
  },
  {
   "cell_type": "code",
   "execution_count": 65,
   "id": "0ef0c31b",
   "metadata": {
    "execution": {
     "iopub.execute_input": "2024-12-28T06:18:07.519553Z",
     "iopub.status.busy": "2024-12-28T06:18:07.518648Z",
     "iopub.status.idle": "2024-12-28T06:18:07.524241Z",
     "shell.execute_reply": "2024-12-28T06:18:07.522967Z"
    },
    "papermill": {
     "duration": 0.035816,
     "end_time": "2024-12-28T06:18:07.526619",
     "exception": false,
     "start_time": "2024-12-28T06:18:07.490803",
     "status": "completed"
    },
    "tags": []
   },
   "outputs": [],
   "source": [
    "xgb = XGBClassifier(objective='binary:logistic', random_state=1)"
   ]
  },
  {
   "cell_type": "code",
   "execution_count": 66,
   "id": "be3f31f8",
   "metadata": {
    "execution": {
     "iopub.execute_input": "2024-12-28T06:18:07.583837Z",
     "iopub.status.busy": "2024-12-28T06:18:07.583449Z",
     "iopub.status.idle": "2024-12-28T06:18:07.589372Z",
     "shell.execute_reply": "2024-12-28T06:18:07.588218Z"
    },
    "papermill": {
     "duration": 0.036688,
     "end_time": "2024-12-28T06:18:07.591602",
     "exception": false,
     "start_time": "2024-12-28T06:18:07.554914",
     "status": "completed"
    },
    "tags": []
   },
   "outputs": [],
   "source": [
    "param_grid_xgb = {'n_estimators': [100,400,700],\n",
    "                 'colsample_bytree': [0.5,0.7],\n",
    "                 'max_depth': [5,10,20],\n",
    "                 'reg_alpha': [0.5,1],\n",
    "                 'reg_lambda': [1,2],\n",
    "                 'learning_rate': [0.4,0.7],\n",
    "                 'gamma': [1,10],\n",
    "                 'min_child_weight': [2,5,7]}"
   ]
  },
  {
   "cell_type": "code",
   "execution_count": 67,
   "id": "daa978f1",
   "metadata": {
    "execution": {
     "iopub.execute_input": "2024-12-28T06:18:07.646491Z",
     "iopub.status.busy": "2024-12-28T06:18:07.646089Z",
     "iopub.status.idle": "2024-12-28T06:18:07.651428Z",
     "shell.execute_reply": "2024-12-28T06:18:07.650279Z"
    },
    "papermill": {
     "duration": 0.035846,
     "end_time": "2024-12-28T06:18:07.653634",
     "exception": false,
     "start_time": "2024-12-28T06:18:07.617788",
     "status": "completed"
    },
    "tags": []
   },
   "outputs": [],
   "source": [
    "cv_xgb = GridSearchCV(xgb, param_grid=param_grid_xgb, cv=3, verbose=1, n_jobs=-1)"
   ]
  },
  {
   "cell_type": "code",
   "execution_count": 68,
   "id": "0bb507c2",
   "metadata": {
    "execution": {
     "iopub.execute_input": "2024-12-28T06:18:07.707660Z",
     "iopub.status.busy": "2024-12-28T06:18:07.707267Z",
     "iopub.status.idle": "2024-12-28T06:20:28.647055Z",
     "shell.execute_reply": "2024-12-28T06:20:28.646185Z"
    },
    "papermill": {
     "duration": 140.969798,
     "end_time": "2024-12-28T06:20:28.649491",
     "exception": false,
     "start_time": "2024-12-28T06:18:07.679693",
     "status": "completed"
    },
    "tags": []
   },
   "outputs": [
    {
     "name": "stdout",
     "output_type": "stream",
     "text": [
      "Fitting 3 folds for each of 864 candidates, totalling 2592 fits\n"
     ]
    }
   ],
   "source": [
    "fit_cv_xgb = cv_xgb.fit(X_train, y_train)"
   ]
  },
  {
   "cell_type": "code",
   "execution_count": 69,
   "id": "71a33b48",
   "metadata": {
    "execution": {
     "iopub.execute_input": "2024-12-28T06:20:28.703727Z",
     "iopub.status.busy": "2024-12-28T06:20:28.703342Z",
     "iopub.status.idle": "2024-12-28T06:20:28.710614Z",
     "shell.execute_reply": "2024-12-28T06:20:28.709430Z"
    },
    "papermill": {
     "duration": 0.036778,
     "end_time": "2024-12-28T06:20:28.712743",
     "exception": false,
     "start_time": "2024-12-28T06:20:28.675965",
     "status": "completed"
    },
    "tags": []
   },
   "outputs": [
    {
     "data": {
      "text/plain": [
       "{'colsample_bytree': 0.7,\n",
       " 'gamma': 1,\n",
       " 'learning_rate': 0.4,\n",
       " 'max_depth': 10,\n",
       " 'min_child_weight': 2,\n",
       " 'n_estimators': 100,\n",
       " 'reg_alpha': 0.5,\n",
       " 'reg_lambda': 2}"
      ]
     },
     "execution_count": 69,
     "metadata": {},
     "output_type": "execute_result"
    }
   ],
   "source": [
    "fit_cv_xgb.best_params_"
   ]
  },
  {
   "cell_type": "code",
   "execution_count": 70,
   "id": "9dbb2261",
   "metadata": {
    "execution": {
     "iopub.execute_input": "2024-12-28T06:20:28.767308Z",
     "iopub.status.busy": "2024-12-28T06:20:28.766871Z",
     "iopub.status.idle": "2024-12-28T06:20:28.776547Z",
     "shell.execute_reply": "2024-12-28T06:20:28.775481Z"
    },
    "papermill": {
     "duration": 0.039354,
     "end_time": "2024-12-28T06:20:28.778618",
     "exception": false,
     "start_time": "2024-12-28T06:20:28.739264",
     "status": "completed"
    },
    "tags": []
   },
   "outputs": [
    {
     "data": {
      "text/html": [
       "<style>#sk-container-id-2 {color: black;background-color: white;}#sk-container-id-2 pre{padding: 0;}#sk-container-id-2 div.sk-toggleable {background-color: white;}#sk-container-id-2 label.sk-toggleable__label {cursor: pointer;display: block;width: 100%;margin-bottom: 0;padding: 0.3em;box-sizing: border-box;text-align: center;}#sk-container-id-2 label.sk-toggleable__label-arrow:before {content: \"▸\";float: left;margin-right: 0.25em;color: #696969;}#sk-container-id-2 label.sk-toggleable__label-arrow:hover:before {color: black;}#sk-container-id-2 div.sk-estimator:hover label.sk-toggleable__label-arrow:before {color: black;}#sk-container-id-2 div.sk-toggleable__content {max-height: 0;max-width: 0;overflow: hidden;text-align: left;background-color: #f0f8ff;}#sk-container-id-2 div.sk-toggleable__content pre {margin: 0.2em;color: black;border-radius: 0.25em;background-color: #f0f8ff;}#sk-container-id-2 input.sk-toggleable__control:checked~div.sk-toggleable__content {max-height: 200px;max-width: 100%;overflow: auto;}#sk-container-id-2 input.sk-toggleable__control:checked~label.sk-toggleable__label-arrow:before {content: \"▾\";}#sk-container-id-2 div.sk-estimator input.sk-toggleable__control:checked~label.sk-toggleable__label {background-color: #d4ebff;}#sk-container-id-2 div.sk-label input.sk-toggleable__control:checked~label.sk-toggleable__label {background-color: #d4ebff;}#sk-container-id-2 input.sk-hidden--visually {border: 0;clip: rect(1px 1px 1px 1px);clip: rect(1px, 1px, 1px, 1px);height: 1px;margin: -1px;overflow: hidden;padding: 0;position: absolute;width: 1px;}#sk-container-id-2 div.sk-estimator {font-family: monospace;background-color: #f0f8ff;border: 1px dotted black;border-radius: 0.25em;box-sizing: border-box;margin-bottom: 0.5em;}#sk-container-id-2 div.sk-estimator:hover {background-color: #d4ebff;}#sk-container-id-2 div.sk-parallel-item::after {content: \"\";width: 100%;border-bottom: 1px solid gray;flex-grow: 1;}#sk-container-id-2 div.sk-label:hover label.sk-toggleable__label {background-color: #d4ebff;}#sk-container-id-2 div.sk-serial::before {content: \"\";position: absolute;border-left: 1px solid gray;box-sizing: border-box;top: 0;bottom: 0;left: 50%;z-index: 0;}#sk-container-id-2 div.sk-serial {display: flex;flex-direction: column;align-items: center;background-color: white;padding-right: 0.2em;padding-left: 0.2em;position: relative;}#sk-container-id-2 div.sk-item {position: relative;z-index: 1;}#sk-container-id-2 div.sk-parallel {display: flex;align-items: stretch;justify-content: center;background-color: white;position: relative;}#sk-container-id-2 div.sk-item::before, #sk-container-id-2 div.sk-parallel-item::before {content: \"\";position: absolute;border-left: 1px solid gray;box-sizing: border-box;top: 0;bottom: 0;left: 50%;z-index: -1;}#sk-container-id-2 div.sk-parallel-item {display: flex;flex-direction: column;z-index: 1;position: relative;background-color: white;}#sk-container-id-2 div.sk-parallel-item:first-child::after {align-self: flex-end;width: 50%;}#sk-container-id-2 div.sk-parallel-item:last-child::after {align-self: flex-start;width: 50%;}#sk-container-id-2 div.sk-parallel-item:only-child::after {width: 0;}#sk-container-id-2 div.sk-dashed-wrapped {border: 1px dashed gray;margin: 0 0.4em 0.5em 0.4em;box-sizing: border-box;padding-bottom: 0.4em;background-color: white;}#sk-container-id-2 div.sk-label label {font-family: monospace;font-weight: bold;display: inline-block;line-height: 1.2em;}#sk-container-id-2 div.sk-label-container {text-align: center;}#sk-container-id-2 div.sk-container {/* jupyter's `normalize.less` sets `[hidden] { display: none; }` but bootstrap.min.css set `[hidden] { display: none !important; }` so we also need the `!important` here to be able to override the default hidden behavior on the sphinx rendered scikit-learn.org. See: https://github.com/scikit-learn/scikit-learn/issues/21755 */display: inline-block !important;position: relative;}#sk-container-id-2 div.sk-text-repr-fallback {display: none;}</style><div id=\"sk-container-id-2\" class=\"sk-top-container\"><div class=\"sk-text-repr-fallback\"><pre>XGBClassifier(base_score=None, booster=None, callbacks=None,\n",
       "              colsample_bylevel=None, colsample_bynode=None,\n",
       "              colsample_bytree=0.7, device=None, early_stopping_rounds=None,\n",
       "              enable_categorical=False, eval_metric=None, feature_types=None,\n",
       "              gamma=1, grow_policy=None, importance_type=None,\n",
       "              interaction_constraints=None, learning_rate=0.4, max_bin=None,\n",
       "              max_cat_threshold=None, max_cat_to_onehot=None,\n",
       "              max_delta_step=None, max_depth=10, max_leaves=None,\n",
       "              min_child_weight=2, missing=nan, monotone_constraints=None,\n",
       "              multi_strategy=None, n_estimators=100, n_jobs=None,\n",
       "              num_parallel_tree=None, random_state=1, ...)</pre><b>In a Jupyter environment, please rerun this cell to show the HTML representation or trust the notebook. <br />On GitHub, the HTML representation is unable to render, please try loading this page with nbviewer.org.</b></div><div class=\"sk-container\" hidden><div class=\"sk-item\"><div class=\"sk-estimator sk-toggleable\"><input class=\"sk-toggleable__control sk-hidden--visually\" id=\"sk-estimator-id-2\" type=\"checkbox\" checked><label for=\"sk-estimator-id-2\" class=\"sk-toggleable__label sk-toggleable__label-arrow\">XGBClassifier</label><div class=\"sk-toggleable__content\"><pre>XGBClassifier(base_score=None, booster=None, callbacks=None,\n",
       "              colsample_bylevel=None, colsample_bynode=None,\n",
       "              colsample_bytree=0.7, device=None, early_stopping_rounds=None,\n",
       "              enable_categorical=False, eval_metric=None, feature_types=None,\n",
       "              gamma=1, grow_policy=None, importance_type=None,\n",
       "              interaction_constraints=None, learning_rate=0.4, max_bin=None,\n",
       "              max_cat_threshold=None, max_cat_to_onehot=None,\n",
       "              max_delta_step=None, max_depth=10, max_leaves=None,\n",
       "              min_child_weight=2, missing=nan, monotone_constraints=None,\n",
       "              multi_strategy=None, n_estimators=100, n_jobs=None,\n",
       "              num_parallel_tree=None, random_state=1, ...)</pre></div></div></div></div></div>"
      ],
      "text/plain": [
       "XGBClassifier(base_score=None, booster=None, callbacks=None,\n",
       "              colsample_bylevel=None, colsample_bynode=None,\n",
       "              colsample_bytree=0.7, device=None, early_stopping_rounds=None,\n",
       "              enable_categorical=False, eval_metric=None, feature_types=None,\n",
       "              gamma=1, grow_policy=None, importance_type=None,\n",
       "              interaction_constraints=None, learning_rate=0.4, max_bin=None,\n",
       "              max_cat_threshold=None, max_cat_to_onehot=None,\n",
       "              max_delta_step=None, max_depth=10, max_leaves=None,\n",
       "              min_child_weight=2, missing=nan, monotone_constraints=None,\n",
       "              multi_strategy=None, n_estimators=100, n_jobs=None,\n",
       "              num_parallel_tree=None, random_state=1, ...)"
      ]
     },
     "execution_count": 70,
     "metadata": {},
     "output_type": "execute_result"
    }
   ],
   "source": [
    "fit_cv_xgb.best_estimator_"
   ]
  },
  {
   "cell_type": "code",
   "execution_count": 71,
   "id": "f1020907",
   "metadata": {
    "execution": {
     "iopub.execute_input": "2024-12-28T06:20:28.834201Z",
     "iopub.status.busy": "2024-12-28T06:20:28.833788Z",
     "iopub.status.idle": "2024-12-28T06:20:28.838531Z",
     "shell.execute_reply": "2024-12-28T06:20:28.837495Z"
    },
    "papermill": {
     "duration": 0.034961,
     "end_time": "2024-12-28T06:20:28.840663",
     "exception": false,
     "start_time": "2024-12-28T06:20:28.805702",
     "status": "completed"
    },
    "tags": []
   },
   "outputs": [],
   "source": [
    "best_xgb = fit_cv_xgb.best_estimator_"
   ]
  },
  {
   "cell_type": "code",
   "execution_count": 72,
   "id": "c273b87e",
   "metadata": {
    "execution": {
     "iopub.execute_input": "2024-12-28T06:20:28.898000Z",
     "iopub.status.busy": "2024-12-28T06:20:28.897506Z",
     "iopub.status.idle": "2024-12-28T06:20:28.952192Z",
     "shell.execute_reply": "2024-12-28T06:20:28.951339Z"
    },
    "papermill": {
     "duration": 0.087167,
     "end_time": "2024-12-28T06:20:28.954891",
     "exception": false,
     "start_time": "2024-12-28T06:20:28.867724",
     "status": "completed"
    },
    "tags": []
   },
   "outputs": [],
   "source": [
    "model_xgb = best_xgb.fit(X_train, y_train)"
   ]
  },
  {
   "cell_type": "code",
   "execution_count": 73,
   "id": "6bcb0339",
   "metadata": {
    "execution": {
     "iopub.execute_input": "2024-12-28T06:20:29.009843Z",
     "iopub.status.busy": "2024-12-28T06:20:29.009454Z",
     "iopub.status.idle": "2024-12-28T06:20:29.023381Z",
     "shell.execute_reply": "2024-12-28T06:20:29.022375Z"
    },
    "papermill": {
     "duration": 0.044439,
     "end_time": "2024-12-28T06:20:29.026245",
     "exception": false,
     "start_time": "2024-12-28T06:20:28.981806",
     "status": "completed"
    },
    "tags": []
   },
   "outputs": [],
   "source": [
    "y_pred_xgb = model_xgb.predict(X_test)"
   ]
  },
  {
   "cell_type": "code",
   "execution_count": 74,
   "id": "4a696e25",
   "metadata": {
    "execution": {
     "iopub.execute_input": "2024-12-28T06:20:29.084098Z",
     "iopub.status.busy": "2024-12-28T06:20:29.083691Z",
     "iopub.status.idle": "2024-12-28T06:20:29.088609Z",
     "shell.execute_reply": "2024-12-28T06:20:29.087637Z"
    },
    "papermill": {
     "duration": 0.036892,
     "end_time": "2024-12-28T06:20:29.090778",
     "exception": false,
     "start_time": "2024-12-28T06:20:29.053886",
     "status": "completed"
    },
    "tags": []
   },
   "outputs": [],
   "source": [
    "xgb_final_data = {'PassengerId': df_test.PassengerId, 'Survived': y_pred_xgb}"
   ]
  },
  {
   "cell_type": "code",
   "execution_count": 75,
   "id": "2891a03a",
   "metadata": {
    "execution": {
     "iopub.execute_input": "2024-12-28T06:20:29.145889Z",
     "iopub.status.busy": "2024-12-28T06:20:29.145492Z",
     "iopub.status.idle": "2024-12-28T06:20:29.150863Z",
     "shell.execute_reply": "2024-12-28T06:20:29.149782Z"
    },
    "papermill": {
     "duration": 0.035768,
     "end_time": "2024-12-28T06:20:29.153225",
     "exception": false,
     "start_time": "2024-12-28T06:20:29.117457",
     "status": "completed"
    },
    "tags": []
   },
   "outputs": [],
   "source": [
    "submit_xgb = pd.DataFrame(xgb_final_data)"
   ]
  },
  {
   "cell_type": "code",
   "execution_count": 76,
   "id": "45e03978",
   "metadata": {
    "execution": {
     "iopub.execute_input": "2024-12-28T06:20:29.208750Z",
     "iopub.status.busy": "2024-12-28T06:20:29.208360Z",
     "iopub.status.idle": "2024-12-28T06:20:29.215047Z",
     "shell.execute_reply": "2024-12-28T06:20:29.213996Z"
    },
    "papermill": {
     "duration": 0.037243,
     "end_time": "2024-12-28T06:20:29.217048",
     "exception": false,
     "start_time": "2024-12-28T06:20:29.179805",
     "status": "completed"
    },
    "tags": []
   },
   "outputs": [],
   "source": [
    "submit_xgb.to_csv('XGBoost_output.csv', index=False)"
   ]
  }
 ],
 "metadata": {
  "kaggle": {
   "accelerator": "none",
   "dataSources": [
    {
     "databundleVersionId": 26502,
     "sourceId": 3136,
     "sourceType": "competition"
    }
   ],
   "dockerImageVersionId": 30804,
   "isGpuEnabled": false,
   "isInternetEnabled": false,
   "language": "python",
   "sourceType": "notebook"
  },
  "kernelspec": {
   "display_name": "Python 3",
   "language": "python",
   "name": "python3"
  },
  "language_info": {
   "codemirror_mode": {
    "name": "ipython",
    "version": 3
   },
   "file_extension": ".py",
   "mimetype": "text/x-python",
   "name": "python",
   "nbconvert_exporter": "python",
   "pygments_lexer": "ipython3",
   "version": "3.10.14"
  },
  "papermill": {
   "default_parameters": {},
   "duration": 870.838388,
   "end_time": "2024-12-28T06:20:31.865752",
   "environment_variables": {},
   "exception": null,
   "input_path": "__notebook__.ipynb",
   "output_path": "__notebook__.ipynb",
   "parameters": {},
   "start_time": "2024-12-28T06:06:01.027364",
   "version": "2.6.0"
  }
 },
 "nbformat": 4,
 "nbformat_minor": 5
}
